{
 "cells": [
  {
   "cell_type": "markdown",
   "id": "02958e03-1399-4251-afd3-d86cfe876067",
   "metadata": {},
   "source": [
    "# From REST to reasoning: ingest, index, and query with dlt and Cognee\n",
    "\n",
    "* Video: https://www.youtube.com/watch?v=MNt_KK32gys\n",
    "* Homework solution: TBA\n",
    "\n",
    "# Resources\n",
    "\n",
    "* [Slides](https://docs.google.com/presentation/d/1oHQilxEVqGGW4S2ctNEE0wHY2LgcjYLaRUziAoinsis/edit?usp=sharing)\n",
    "* [Colab Notebook](https://colab.research.google.com/drive/1vBA9OIGChcKjjg8r5hHduR0v3A5D6rmH?usp=sharing) \n",
    "\n",
    "--- \n",
    "\n"
   ]
  },
  {
   "cell_type": "markdown",
   "id": "af3db3dd-5ad7-4c24-85ee-c074b8e7ec63",
   "metadata": {},
   "source": [
    "# Homework\n",
    "\n",
    "## Question 1. dlt Version\n",
    "\n",
    "In this homework, we will load the data from our FAQ to Qdrant\n",
    "\n",
    "Let's install dlt with Qdrant support and Qdrant client:\n",
    "\n",
    "```bash\n",
    "pip install -q \"dlt[qdrant]\" \"qdrant-client[fastembed]\"\n",
    "```\n",
    "\n",
    "What's the version of dlt that you installed?"
   ]
  },
  {
   "cell_type": "code",
   "execution_count": 50,
   "id": "463825ab-da8f-45f0-b77b-6935eca615e8",
   "metadata": {},
   "outputs": [],
   "source": [
    "import dlt\n",
    "import requests\n",
    "import pandas as pd\n",
    "from datetime import datetime\n",
    "from qdrant_client import QdrantClient, models"
   ]
  },
  {
   "cell_type": "code",
   "execution_count": 37,
   "id": "515855e8-5067-44a0-99d5-dd67995e7bca",
   "metadata": {},
   "outputs": [
    {
     "data": {
      "text/plain": [
       "'1.13.0'"
      ]
     },
     "execution_count": 37,
     "metadata": {},
     "output_type": "execute_result"
    }
   ],
   "source": [
    "dlt.__version__"
   ]
  },
  {
   "cell_type": "markdown",
   "id": "c8d6c3e9-1e8c-434c-985d-9d55018daf7c",
   "metadata": {},
   "source": [
    "## dlt Resourse\n",
    "\n",
    "For reading the FAQ data, we have this helper function:\n",
    "\n",
    "```python\n",
    "def zoomcamp_data():\n",
    "    docs_url = 'https://github.com/alexeygrigorev/llm-rag-workshop/raw/main/notebooks/documents.json'\n",
    "    docs_response = requests.get(docs_url)\n",
    "    documents_raw = docs_response.json()\n",
    "\n",
    "    for course in documents_raw:\n",
    "        course_name = course['course']\n",
    "\n",
    "        for doc in course['documents']:\n",
    "            doc['course'] = course_name\n",
    "            yield doc\n",
    "```\n",
    "\n",
    "Annotate it with `@dlt.resource`. We will use it when creating\n",
    "a dlt pipeline."
   ]
  },
  {
   "cell_type": "code",
   "execution_count": 7,
   "id": "59b036f0-2206-43e4-9903-1fad11f6092c",
   "metadata": {},
   "outputs": [
    {
     "name": "stdout",
     "output_type": "stream",
     "text": [
      "--2025-07-13 19:23:47--  https://github.com/alexeygrigorev/llm-rag-workshop/raw/main/notebooks/documents.json\n",
      "Resolving github.com (github.com)... 140.82.121.4\n",
      "Connecting to github.com (github.com)|140.82.121.4|:443... connected.\n",
      "HTTP request sent, awaiting response... 302 Found\n",
      "Location: https://raw.githubusercontent.com/alexeygrigorev/llm-rag-workshop/main/notebooks/documents.json [following]\n",
      "--2025-07-13 19:23:48--  https://raw.githubusercontent.com/alexeygrigorev/llm-rag-workshop/main/notebooks/documents.json\n",
      "Resolving raw.githubusercontent.com (raw.githubusercontent.com)... 185.199.110.133, 185.199.108.133, 185.199.111.133, ...\n",
      "Connecting to raw.githubusercontent.com (raw.githubusercontent.com)|185.199.110.133|:443... connected.\n",
      "HTTP request sent, awaiting response... 200 OK\n",
      "Length: 658332 (643K) [text/plain]\n",
      "Saving to: ‘documents.json’\n",
      "\n",
      "documents.json      100%[===================>] 642.90K  --.-KB/s    in 0.04s   \n",
      "\n",
      "2025-07-13 19:23:48 (15.1 MB/s) - ‘documents.json’ saved [658332/658332]\n",
      "\n"
     ]
    }
   ],
   "source": [
    "!wget https://github.com/alexeygrigorev/llm-rag-workshop/raw/main/notebooks/documents.json"
   ]
  },
  {
   "cell_type": "code",
   "execution_count": 22,
   "id": "51aabeb7-5e60-4c43-a4a1-eebce3733747",
   "metadata": {},
   "outputs": [
    {
     "name": "stdout",
     "output_type": "stream",
     "text": [
      "\u001b[0;39m435\u001b[0m\n",
      "\u001b[0;39m375\u001b[0m\n",
      "\u001b[0;39m138\u001b[0m\n"
     ]
    }
   ],
   "source": [
    "!cat documents.json | jq \".[].documents | length\""
   ]
  },
  {
   "cell_type": "code",
   "execution_count": 23,
   "id": "def2ef90-37bc-4c18-96a9-ea8093dd3624",
   "metadata": {},
   "outputs": [
    {
     "name": "stdout",
     "output_type": "stream",
     "text": [
      "\u001b[0;39m2\u001b[0m\n",
      "\u001b[0;39m2\u001b[0m\n",
      "\u001b[0;39m2\u001b[0m\n"
     ]
    }
   ],
   "source": [
    "!cat documents.json | jq \".[] | length\""
   ]
  },
  {
   "cell_type": "code",
   "execution_count": 38,
   "id": "a3610f34-8785-48b3-afd1-101c62c3bdc9",
   "metadata": {},
   "outputs": [],
   "source": [
    "@dlt.resource(write_disposition=\"replace\", name=\"zoomcamp_data\")\n",
    "def zoomcamp_data():\n",
    "    docs_url = 'https://github.com/alexeygrigorev/llm-rag-workshop/raw/main/notebooks/documents.json'\n",
    "    docs_response = requests.get(docs_url)\n",
    "    documents_raw = docs_response.json()\n",
    "\n",
    "    for course in documents_raw:\n",
    "        course_name = course['course']\n",
    "\n",
    "        for doc in course['documents']:\n",
    "            doc['course'] = course_name\n",
    "            yield doc"
   ]
  },
  {
   "cell_type": "markdown",
   "id": "e7e335a5-333c-40b8-844b-4821473c9ae6",
   "metadata": {},
   "source": [
    "## Question 2. dlt pipeline\n",
    "\n",
    "Now let's create a pipeline. \n",
    "\n",
    "We need to define a destination for that. Let's use the `qdrant` one:\n",
    "\n",
    "```python\n",
    "from dlt.destinations import qdrant\n",
    "\n",
    "qdrant_destination = qdrant(\n",
    "  qd_path=\"db.qdrant\", \n",
    ")\n",
    "```\n",
    "\n",
    "In this case, we tell dlt (and Qdrant) to create a folder with\n",
    "our data, and the name for it will be `db.qdrant`\n",
    "\n",
    "Let's run it:\n",
    "\n",
    "```python\n",
    "pipeline = dlt.pipeline(\n",
    "    pipeline_name=\"zoomcamp_pipeline\",\n",
    "    destination=qdrant_destination,\n",
    "    dataset_name=\"zoomcamp_tagged_data\"\n",
    "\n",
    ")\n",
    "load_info = pipeline.run(zoomcamp_data())\n",
    "print(pipeline.last_trace)\n",
    "```\n",
    "\n",
    "How many rows were inserted into the `zoomcamp_data` collection?\n",
    "\n",
    "Look for `\"Normalized data for the following tables:\"` in the trace output."
   ]
  },
  {
   "cell_type": "code",
   "execution_count": 39,
   "id": "6c4eef3e-e85b-452a-89ad-d2e1f78ba482",
   "metadata": {},
   "outputs": [],
   "source": [
    "from dlt.destinations import qdrant\n",
    "\n",
    "qdrant_destination = qdrant(\n",
    "  qd_path=\"db.qdrant\", \n",
    ")"
   ]
  },
  {
   "cell_type": "code",
   "execution_count": 40,
   "id": "9f7b4d52-9efb-417d-ac80-c2d7b9b1cc7d",
   "metadata": {},
   "outputs": [
    {
     "name": "stdout",
     "output_type": "stream",
     "text": [
      "Run started at 2025-07-13 18:21:43.986160+00:00 and COMPLETED in 11.58 seconds with 4 steps.\n",
      "Step extract COMPLETED in 0.83 seconds.\n",
      "\n",
      "Load package 1752430904.9536664 is EXTRACTED and NOT YET LOADED to the destination and contains no failed jobs\n",
      "\n",
      "Step normalize COMPLETED in 0.10 seconds.\n",
      "Normalized data for the following tables:\n",
      "- _dlt_pipeline_state: 1 row(s)\n",
      "- zoomcamp_data: 948 row(s)\n",
      "\n",
      "Load package 1752430904.9536664 is NORMALIZED and NOT YET LOADED to the destination and contains no failed jobs\n",
      "\n",
      "Step load COMPLETED in 9.68 seconds.\n",
      "Pipeline zoomcamp_pipeline load step completed in 9.65 seconds\n",
      "1 load package(s) were loaded to destination qdrant and into dataset zoomcamp_tagged_data\n",
      "The qdrant destination used /home/emmuzoo/llm-zoomcamp-2025/workshops/dlt/db.qdrant location to store data\n",
      "Load package 1752430904.9536664 is LOADED and contains no failed jobs\n",
      "\n",
      "Step run COMPLETED in 11.58 seconds.\n",
      "Pipeline zoomcamp_pipeline load step completed in 9.65 seconds\n",
      "1 load package(s) were loaded to destination qdrant and into dataset zoomcamp_tagged_data\n",
      "The qdrant destination used /home/emmuzoo/llm-zoomcamp-2025/workshops/dlt/db.qdrant location to store data\n",
      "Load package 1752430904.9536664 is LOADED and contains no failed jobs\n"
     ]
    }
   ],
   "source": [
    "# Step 2: Create and run the pipeline\n",
    "pipeline = dlt.pipeline(\n",
    "    pipeline_name=\"zoomcamp_pipeline\",\n",
    "    destination=qdrant_destination,\n",
    "    dataset_name=\"zoomcamp_tagged_data\"\n",
    "\n",
    ")\n",
    "load_info = pipeline.run(zoomcamp_data())\n",
    "print(pipeline.last_trace)"
   ]
  },
  {
   "cell_type": "code",
   "execution_count": 43,
   "id": "d536aee1-74e8-4b80-b08e-0d42b898f36c",
   "metadata": {},
   "outputs": [],
   "source": [
    "#dataset = pipeline.dataset().zoomcamp_data.df()"
   ]
  },
  {
   "cell_type": "code",
   "execution_count": 44,
   "id": "be5ef984-b58b-4af3-9c49-443fe85e13d4",
   "metadata": {},
   "outputs": [],
   "source": [
    "#dataset"
   ]
  },
  {
   "cell_type": "markdown",
   "id": "583c8dc0-7829-4ce1-aabb-a123bb98f4af",
   "metadata": {},
   "source": [
    "## Question 3. Embeddings\n",
    "\n",
    "When inserting the data, an embedding model was used. Which one?\n",
    "\n",
    "You can find this out by inspecting the `meta.json` file created\n",
    "in the target folder. During the data insertion process, a folder named db.qdrant will be created, and the meta.json file will be located inside this folder.\n",
    "\n"
   ]
  },
  {
   "cell_type": "code",
   "execution_count": 46,
   "id": "ddcdd361-5404-44da-975a-5cdddfc877a8",
   "metadata": {},
   "outputs": [
    {
     "name": "stdout",
     "output_type": "stream",
     "text": [
      "total 8.0K\n",
      "drwxr-xr-x 7 emmuzoo emmuzoo 4.0K Jul 13 20:21 collection\n",
      "-rw-r--r-- 1 emmuzoo emmuzoo 2.6K Jul 13 20:21 meta.json\n"
     ]
    }
   ],
   "source": [
    "!ls -lh db.qdrant"
   ]
  },
  {
   "cell_type": "code",
   "execution_count": 49,
   "id": "3166f9bc-ac61-4f64-8dd6-f20e80174a89",
   "metadata": {},
   "outputs": [
    {
     "name": "stdout",
     "output_type": "stream",
     "text": [
      "\u001b[1;39m{\n",
      "  \u001b[0m\u001b[1;34m\"collections\"\u001b[0m\u001b[1;39m: \u001b[0m\u001b[1;39m{\n",
      "    \u001b[0m\u001b[1;34m\"zoomcamp_tagged_data\"\u001b[0m\u001b[1;39m: \u001b[0m\u001b[1;39m{\n",
      "      \u001b[0m\u001b[1;34m\"vectors\"\u001b[0m\u001b[1;39m: \u001b[0m\u001b[1;39m{\n",
      "        \u001b[0m\u001b[1;34m\"fast-bge-small-en\"\u001b[0m\u001b[1;39m: \u001b[0m\u001b[1;39m{\n",
      "          \u001b[0m\u001b[1;34m\"size\"\u001b[0m\u001b[1;39m: \u001b[0m\u001b[0;39m384\u001b[0m\u001b[1;39m,\n",
      "          \u001b[0m\u001b[1;34m\"distance\"\u001b[0m\u001b[1;39m: \u001b[0m\u001b[0;32m\"Cosine\"\u001b[0m\u001b[1;39m,\n",
      "          \u001b[0m\u001b[1;34m\"hnsw_config\"\u001b[0m\u001b[1;39m: \u001b[0m\u001b[0;90mnull\u001b[0m\u001b[1;39m,\n",
      "          \u001b[0m\u001b[1;34m\"quantization_config\"\u001b[0m\u001b[1;39m: \u001b[0m\u001b[0;90mnull\u001b[0m\u001b[1;39m,\n",
      "          \u001b[0m\u001b[1;34m\"on_disk\"\u001b[0m\u001b[1;39m: \u001b[0m\u001b[0;90mnull\u001b[0m\u001b[1;39m,\n",
      "          \u001b[0m\u001b[1;34m\"datatype\"\u001b[0m\u001b[1;39m: \u001b[0m\u001b[0;90mnull\u001b[0m\u001b[1;39m,\n",
      "          \u001b[0m\u001b[1;34m\"multivector_config\"\u001b[0m\u001b[1;39m: \u001b[0m\u001b[0;90mnull\u001b[0m\u001b[1;39m\n",
      "        \u001b[1;39m}\u001b[0m\u001b[1;39m\n",
      "      \u001b[1;39m}\u001b[0m\u001b[1;39m,\n",
      "      \u001b[0m\u001b[1;34m\"shard_number\"\u001b[0m\u001b[1;39m: \u001b[0m\u001b[0;90mnull\u001b[0m\u001b[1;39m,\n",
      "      \u001b[0m\u001b[1;34m\"sharding_method\"\u001b[0m\u001b[1;39m: \u001b[0m\u001b[0;90mnull\u001b[0m\u001b[1;39m,\n",
      "      \u001b[0m\u001b[1;34m\"replication_factor\"\u001b[0m\u001b[1;39m: \u001b[0m\u001b[0;90mnull\u001b[0m\u001b[1;39m,\n",
      "      \u001b[0m\u001b[1;34m\"write_consistency_factor\"\u001b[0m\u001b[1;39m: \u001b[0m\u001b[0;90mnull\u001b[0m\u001b[1;39m,\n",
      "      \u001b[0m\u001b[1;34m\"on_disk_payload\"\u001b[0m\u001b[1;39m: \u001b[0m\u001b[0;90mnull\u001b[0m\u001b[1;39m,\n",
      "      \u001b[0m\u001b[1;34m\"hnsw_config\"\u001b[0m\u001b[1;39m: \u001b[0m\u001b[0;90mnull\u001b[0m\u001b[1;39m,\n",
      "      \u001b[0m\u001b[1;34m\"wal_config\"\u001b[0m\u001b[1;39m: \u001b[0m\u001b[0;90mnull\u001b[0m\u001b[1;39m,\n",
      "      \u001b[0m\u001b[1;34m\"optimizers_config\"\u001b[0m\u001b[1;39m: \u001b[0m\u001b[0;90mnull\u001b[0m\u001b[1;39m,\n",
      "      \u001b[0m\u001b[1;34m\"init_from\"\u001b[0m\u001b[1;39m: \u001b[0m\u001b[0;90mnull\u001b[0m\u001b[1;39m,\n",
      "      \u001b[0m\u001b[1;34m\"quantization_config\"\u001b[0m\u001b[1;39m: \u001b[0m\u001b[0;90mnull\u001b[0m\u001b[1;39m,\n",
      "      \u001b[0m\u001b[1;34m\"sparse_vectors\"\u001b[0m\u001b[1;39m: \u001b[0m\u001b[0;90mnull\u001b[0m\u001b[1;39m,\n",
      "      \u001b[0m\u001b[1;34m\"strict_mode_config\"\u001b[0m\u001b[1;39m: \u001b[0m\u001b[0;90mnull\u001b[0m\u001b[1;39m\n",
      "    \u001b[1;39m}\u001b[0m\u001b[1;39m,\n",
      "    \u001b[0m\u001b[1;34m\"zoomcamp_tagged_data__dlt_version\"\u001b[0m\u001b[1;39m: \u001b[0m\u001b[1;39m{\n",
      "      \u001b[0m\u001b[1;34m\"vectors\"\u001b[0m\u001b[1;39m: \u001b[0m\u001b[1;39m{\n",
      "        \u001b[0m\u001b[1;34m\"fast-bge-small-en\"\u001b[0m\u001b[1;39m: \u001b[0m\u001b[1;39m{\n",
      "          \u001b[0m\u001b[1;34m\"size\"\u001b[0m\u001b[1;39m: \u001b[0m\u001b[0;39m384\u001b[0m\u001b[1;39m,\n",
      "          \u001b[0m\u001b[1;34m\"distance\"\u001b[0m\u001b[1;39m: \u001b[0m\u001b[0;32m\"Cosine\"\u001b[0m\u001b[1;39m,\n",
      "          \u001b[0m\u001b[1;34m\"hnsw_config\"\u001b[0m\u001b[1;39m: \u001b[0m\u001b[0;90mnull\u001b[0m\u001b[1;39m,\n",
      "          \u001b[0m\u001b[1;34m\"quantization_config\"\u001b[0m\u001b[1;39m: \u001b[0m\u001b[0;90mnull\u001b[0m\u001b[1;39m,\n",
      "          \u001b[0m\u001b[1;34m\"on_disk\"\u001b[0m\u001b[1;39m: \u001b[0m\u001b[0;90mnull\u001b[0m\u001b[1;39m,\n",
      "          \u001b[0m\u001b[1;34m\"datatype\"\u001b[0m\u001b[1;39m: \u001b[0m\u001b[0;90mnull\u001b[0m\u001b[1;39m,\n",
      "          \u001b[0m\u001b[1;34m\"multivector_config\"\u001b[0m\u001b[1;39m: \u001b[0m\u001b[0;90mnull\u001b[0m\u001b[1;39m\n",
      "        \u001b[1;39m}\u001b[0m\u001b[1;39m\n",
      "      \u001b[1;39m}\u001b[0m\u001b[1;39m,\n",
      "      \u001b[0m\u001b[1;34m\"shard_number\"\u001b[0m\u001b[1;39m: \u001b[0m\u001b[0;90mnull\u001b[0m\u001b[1;39m,\n",
      "      \u001b[0m\u001b[1;34m\"sharding_method\"\u001b[0m\u001b[1;39m: \u001b[0m\u001b[0;90mnull\u001b[0m\u001b[1;39m,\n",
      "      \u001b[0m\u001b[1;34m\"replication_factor\"\u001b[0m\u001b[1;39m: \u001b[0m\u001b[0;90mnull\u001b[0m\u001b[1;39m,\n",
      "      \u001b[0m\u001b[1;34m\"write_consistency_factor\"\u001b[0m\u001b[1;39m: \u001b[0m\u001b[0;90mnull\u001b[0m\u001b[1;39m,\n",
      "      \u001b[0m\u001b[1;34m\"on_disk_payload\"\u001b[0m\u001b[1;39m: \u001b[0m\u001b[0;90mnull\u001b[0m\u001b[1;39m,\n",
      "      \u001b[0m\u001b[1;34m\"hnsw_config\"\u001b[0m\u001b[1;39m: \u001b[0m\u001b[0;90mnull\u001b[0m\u001b[1;39m,\n",
      "      \u001b[0m\u001b[1;34m\"wal_config\"\u001b[0m\u001b[1;39m: \u001b[0m\u001b[0;90mnull\u001b[0m\u001b[1;39m,\n",
      "      \u001b[0m\u001b[1;34m\"optimizers_config\"\u001b[0m\u001b[1;39m: \u001b[0m\u001b[0;90mnull\u001b[0m\u001b[1;39m,\n",
      "      \u001b[0m\u001b[1;34m\"init_from\"\u001b[0m\u001b[1;39m: \u001b[0m\u001b[0;90mnull\u001b[0m\u001b[1;39m,\n",
      "      \u001b[0m\u001b[1;34m\"quantization_config\"\u001b[0m\u001b[1;39m: \u001b[0m\u001b[0;90mnull\u001b[0m\u001b[1;39m,\n",
      "      \u001b[0m\u001b[1;34m\"sparse_vectors\"\u001b[0m\u001b[1;39m: \u001b[0m\u001b[0;90mnull\u001b[0m\u001b[1;39m,\n",
      "      \u001b[0m\u001b[1;34m\"strict_mode_config\"\u001b[0m\u001b[1;39m: \u001b[0m\u001b[0;90mnull\u001b[0m\u001b[1;39m\n",
      "    \u001b[1;39m}\u001b[0m\u001b[1;39m,\n",
      "    \u001b[0m\u001b[1;34m\"zoomcamp_tagged_data__dlt_loads\"\u001b[0m\u001b[1;39m: \u001b[0m\u001b[1;39m{\n",
      "      \u001b[0m\u001b[1;34m\"vectors\"\u001b[0m\u001b[1;39m: \u001b[0m\u001b[1;39m{\n",
      "        \u001b[0m\u001b[1;34m\"fast-bge-small-en\"\u001b[0m\u001b[1;39m: \u001b[0m\u001b[1;39m{\n",
      "          \u001b[0m\u001b[1;34m\"size\"\u001b[0m\u001b[1;39m: \u001b[0m\u001b[0;39m384\u001b[0m\u001b[1;39m,\n",
      "          \u001b[0m\u001b[1;34m\"distance\"\u001b[0m\u001b[1;39m: \u001b[0m\u001b[0;32m\"Cosine\"\u001b[0m\u001b[1;39m,\n",
      "          \u001b[0m\u001b[1;34m\"hnsw_config\"\u001b[0m\u001b[1;39m: \u001b[0m\u001b[0;90mnull\u001b[0m\u001b[1;39m,\n",
      "          \u001b[0m\u001b[1;34m\"quantization_config\"\u001b[0m\u001b[1;39m: \u001b[0m\u001b[0;90mnull\u001b[0m\u001b[1;39m,\n",
      "          \u001b[0m\u001b[1;34m\"on_disk\"\u001b[0m\u001b[1;39m: \u001b[0m\u001b[0;90mnull\u001b[0m\u001b[1;39m,\n",
      "          \u001b[0m\u001b[1;34m\"datatype\"\u001b[0m\u001b[1;39m: \u001b[0m\u001b[0;90mnull\u001b[0m\u001b[1;39m,\n",
      "          \u001b[0m\u001b[1;34m\"multivector_config\"\u001b[0m\u001b[1;39m: \u001b[0m\u001b[0;90mnull\u001b[0m\u001b[1;39m\n",
      "        \u001b[1;39m}\u001b[0m\u001b[1;39m\n",
      "      \u001b[1;39m}\u001b[0m\u001b[1;39m,\n",
      "      \u001b[0m\u001b[1;34m\"shard_number\"\u001b[0m\u001b[1;39m: \u001b[0m\u001b[0;90mnull\u001b[0m\u001b[1;39m,\n",
      "      \u001b[0m\u001b[1;34m\"sharding_method\"\u001b[0m\u001b[1;39m: \u001b[0m\u001b[0;90mnull\u001b[0m\u001b[1;39m,\n",
      "      \u001b[0m\u001b[1;34m\"replication_factor\"\u001b[0m\u001b[1;39m: \u001b[0m\u001b[0;90mnull\u001b[0m\u001b[1;39m,\n",
      "      \u001b[0m\u001b[1;34m\"write_consistency_factor\"\u001b[0m\u001b[1;39m: \u001b[0m\u001b[0;90mnull\u001b[0m\u001b[1;39m,\n",
      "      \u001b[0m\u001b[1;34m\"on_disk_payload\"\u001b[0m\u001b[1;39m: \u001b[0m\u001b[0;90mnull\u001b[0m\u001b[1;39m,\n",
      "      \u001b[0m\u001b[1;34m\"hnsw_config\"\u001b[0m\u001b[1;39m: \u001b[0m\u001b[0;90mnull\u001b[0m\u001b[1;39m,\n",
      "      \u001b[0m\u001b[1;34m\"wal_config\"\u001b[0m\u001b[1;39m: \u001b[0m\u001b[0;90mnull\u001b[0m\u001b[1;39m,\n",
      "      \u001b[0m\u001b[1;34m\"optimizers_config\"\u001b[0m\u001b[1;39m: \u001b[0m\u001b[0;90mnull\u001b[0m\u001b[1;39m,\n",
      "      \u001b[0m\u001b[1;34m\"init_from\"\u001b[0m\u001b[1;39m: \u001b[0m\u001b[0;90mnull\u001b[0m\u001b[1;39m,\n",
      "      \u001b[0m\u001b[1;34m\"quantization_config\"\u001b[0m\u001b[1;39m: \u001b[0m\u001b[0;90mnull\u001b[0m\u001b[1;39m,\n",
      "      \u001b[0m\u001b[1;34m\"sparse_vectors\"\u001b[0m\u001b[1;39m: \u001b[0m\u001b[0;90mnull\u001b[0m\u001b[1;39m,\n",
      "      \u001b[0m\u001b[1;34m\"strict_mode_config\"\u001b[0m\u001b[1;39m: \u001b[0m\u001b[0;90mnull\u001b[0m\u001b[1;39m\n",
      "    \u001b[1;39m}\u001b[0m\u001b[1;39m,\n",
      "    \u001b[0m\u001b[1;34m\"zoomcamp_tagged_data__dlt_pipeline_state\"\u001b[0m\u001b[1;39m: \u001b[0m\u001b[1;39m{\n",
      "      \u001b[0m\u001b[1;34m\"vectors\"\u001b[0m\u001b[1;39m: \u001b[0m\u001b[1;39m{\n",
      "        \u001b[0m\u001b[1;34m\"fast-bge-small-en\"\u001b[0m\u001b[1;39m: \u001b[0m\u001b[1;39m{\n",
      "          \u001b[0m\u001b[1;34m\"size\"\u001b[0m\u001b[1;39m: \u001b[0m\u001b[0;39m384\u001b[0m\u001b[1;39m,\n",
      "          \u001b[0m\u001b[1;34m\"distance\"\u001b[0m\u001b[1;39m: \u001b[0m\u001b[0;32m\"Cosine\"\u001b[0m\u001b[1;39m,\n",
      "          \u001b[0m\u001b[1;34m\"hnsw_config\"\u001b[0m\u001b[1;39m: \u001b[0m\u001b[0;90mnull\u001b[0m\u001b[1;39m,\n",
      "          \u001b[0m\u001b[1;34m\"quantization_config\"\u001b[0m\u001b[1;39m: \u001b[0m\u001b[0;90mnull\u001b[0m\u001b[1;39m,\n",
      "          \u001b[0m\u001b[1;34m\"on_disk\"\u001b[0m\u001b[1;39m: \u001b[0m\u001b[0;90mnull\u001b[0m\u001b[1;39m,\n",
      "          \u001b[0m\u001b[1;34m\"datatype\"\u001b[0m\u001b[1;39m: \u001b[0m\u001b[0;90mnull\u001b[0m\u001b[1;39m,\n",
      "          \u001b[0m\u001b[1;34m\"multivector_config\"\u001b[0m\u001b[1;39m: \u001b[0m\u001b[0;90mnull\u001b[0m\u001b[1;39m\n",
      "        \u001b[1;39m}\u001b[0m\u001b[1;39m\n",
      "      \u001b[1;39m}\u001b[0m\u001b[1;39m,\n",
      "      \u001b[0m\u001b[1;34m\"shard_number\"\u001b[0m\u001b[1;39m: \u001b[0m\u001b[0;90mnull\u001b[0m\u001b[1;39m,\n",
      "      \u001b[0m\u001b[1;34m\"sharding_method\"\u001b[0m\u001b[1;39m: \u001b[0m\u001b[0;90mnull\u001b[0m\u001b[1;39m,\n",
      "      \u001b[0m\u001b[1;34m\"replication_factor\"\u001b[0m\u001b[1;39m: \u001b[0m\u001b[0;90mnull\u001b[0m\u001b[1;39m,\n",
      "      \u001b[0m\u001b[1;34m\"write_consistency_factor\"\u001b[0m\u001b[1;39m: \u001b[0m\u001b[0;90mnull\u001b[0m\u001b[1;39m,\n",
      "      \u001b[0m\u001b[1;34m\"on_disk_payload\"\u001b[0m\u001b[1;39m: \u001b[0m\u001b[0;90mnull\u001b[0m\u001b[1;39m,\n",
      "      \u001b[0m\u001b[1;34m\"hnsw_config\"\u001b[0m\u001b[1;39m: \u001b[0m\u001b[0;90mnull\u001b[0m\u001b[1;39m,\n",
      "      \u001b[0m\u001b[1;34m\"wal_config\"\u001b[0m\u001b[1;39m: \u001b[0m\u001b[0;90mnull\u001b[0m\u001b[1;39m,\n",
      "      \u001b[0m\u001b[1;34m\"optimizers_config\"\u001b[0m\u001b[1;39m: \u001b[0m\u001b[0;90mnull\u001b[0m\u001b[1;39m,\n",
      "      \u001b[0m\u001b[1;34m\"init_from\"\u001b[0m\u001b[1;39m: \u001b[0m\u001b[0;90mnull\u001b[0m\u001b[1;39m,\n",
      "      \u001b[0m\u001b[1;34m\"quantization_config\"\u001b[0m\u001b[1;39m: \u001b[0m\u001b[0;90mnull\u001b[0m\u001b[1;39m,\n",
      "      \u001b[0m\u001b[1;34m\"sparse_vectors\"\u001b[0m\u001b[1;39m: \u001b[0m\u001b[0;90mnull\u001b[0m\u001b[1;39m,\n",
      "      \u001b[0m\u001b[1;34m\"strict_mode_config\"\u001b[0m\u001b[1;39m: \u001b[0m\u001b[0;90mnull\u001b[0m\u001b[1;39m\n",
      "    \u001b[1;39m}\u001b[0m\u001b[1;39m,\n",
      "    \u001b[0m\u001b[1;34m\"zoomcamp_tagged_data_zoomcamp_data\"\u001b[0m\u001b[1;39m: \u001b[0m\u001b[1;39m{\n",
      "      \u001b[0m\u001b[1;34m\"vectors\"\u001b[0m\u001b[1;39m: \u001b[0m\u001b[1;39m{\n",
      "        \u001b[0m\u001b[1;34m\"fast-bge-small-en\"\u001b[0m\u001b[1;39m: \u001b[0m\u001b[1;39m{\n",
      "          \u001b[0m\u001b[1;34m\"size\"\u001b[0m\u001b[1;39m: \u001b[0m\u001b[0;39m384\u001b[0m\u001b[1;39m,\n",
      "          \u001b[0m\u001b[1;34m\"distance\"\u001b[0m\u001b[1;39m: \u001b[0m\u001b[0;32m\"Cosine\"\u001b[0m\u001b[1;39m,\n",
      "          \u001b[0m\u001b[1;34m\"hnsw_config\"\u001b[0m\u001b[1;39m: \u001b[0m\u001b[0;90mnull\u001b[0m\u001b[1;39m,\n",
      "          \u001b[0m\u001b[1;34m\"quantization_config\"\u001b[0m\u001b[1;39m: \u001b[0m\u001b[0;90mnull\u001b[0m\u001b[1;39m,\n",
      "          \u001b[0m\u001b[1;34m\"on_disk\"\u001b[0m\u001b[1;39m: \u001b[0m\u001b[0;90mnull\u001b[0m\u001b[1;39m,\n",
      "          \u001b[0m\u001b[1;34m\"datatype\"\u001b[0m\u001b[1;39m: \u001b[0m\u001b[0;90mnull\u001b[0m\u001b[1;39m,\n",
      "          \u001b[0m\u001b[1;34m\"multivector_config\"\u001b[0m\u001b[1;39m: \u001b[0m\u001b[0;90mnull\u001b[0m\u001b[1;39m\n",
      "        \u001b[1;39m}\u001b[0m\u001b[1;39m\n",
      "      \u001b[1;39m}\u001b[0m\u001b[1;39m,\n",
      "      \u001b[0m\u001b[1;34m\"shard_number\"\u001b[0m\u001b[1;39m: \u001b[0m\u001b[0;90mnull\u001b[0m\u001b[1;39m,\n",
      "      \u001b[0m\u001b[1;34m\"sharding_method\"\u001b[0m\u001b[1;39m: \u001b[0m\u001b[0;90mnull\u001b[0m\u001b[1;39m,\n",
      "      \u001b[0m\u001b[1;34m\"replication_factor\"\u001b[0m\u001b[1;39m: \u001b[0m\u001b[0;90mnull\u001b[0m\u001b[1;39m,\n",
      "      \u001b[0m\u001b[1;34m\"write_consistency_factor\"\u001b[0m\u001b[1;39m: \u001b[0m\u001b[0;90mnull\u001b[0m\u001b[1;39m,\n",
      "      \u001b[0m\u001b[1;34m\"on_disk_payload\"\u001b[0m\u001b[1;39m: \u001b[0m\u001b[0;90mnull\u001b[0m\u001b[1;39m,\n",
      "      \u001b[0m\u001b[1;34m\"hnsw_config\"\u001b[0m\u001b[1;39m: \u001b[0m\u001b[0;90mnull\u001b[0m\u001b[1;39m,\n",
      "      \u001b[0m\u001b[1;34m\"wal_config\"\u001b[0m\u001b[1;39m: \u001b[0m\u001b[0;90mnull\u001b[0m\u001b[1;39m,\n",
      "      \u001b[0m\u001b[1;34m\"optimizers_config\"\u001b[0m\u001b[1;39m: \u001b[0m\u001b[0;90mnull\u001b[0m\u001b[1;39m,\n",
      "      \u001b[0m\u001b[1;34m\"init_from\"\u001b[0m\u001b[1;39m: \u001b[0m\u001b[0;90mnull\u001b[0m\u001b[1;39m,\n",
      "      \u001b[0m\u001b[1;34m\"quantization_config\"\u001b[0m\u001b[1;39m: \u001b[0m\u001b[0;90mnull\u001b[0m\u001b[1;39m,\n",
      "      \u001b[0m\u001b[1;34m\"sparse_vectors\"\u001b[0m\u001b[1;39m: \u001b[0m\u001b[0;90mnull\u001b[0m\u001b[1;39m,\n",
      "      \u001b[0m\u001b[1;34m\"strict_mode_config\"\u001b[0m\u001b[1;39m: \u001b[0m\u001b[0;90mnull\u001b[0m\u001b[1;39m\n",
      "    \u001b[1;39m}\u001b[0m\u001b[1;39m\n",
      "  \u001b[1;39m}\u001b[0m\u001b[1;39m,\n",
      "  \u001b[0m\u001b[1;34m\"aliases\"\u001b[0m\u001b[1;39m: \u001b[0m\u001b[1;39m{}\u001b[0m\u001b[1;39m\n",
      "\u001b[1;39m}\u001b[0m\n"
     ]
    }
   ],
   "source": [
    "!cat db.qdrant/meta.json | jq"
   ]
  },
  {
   "cell_type": "code",
   "execution_count": null,
   "id": "be0f781c-5001-4d42-8356-252a799ac388",
   "metadata": {},
   "outputs": [],
   "source": []
  },
  {
   "cell_type": "code",
   "execution_count": null,
   "id": "940e831d-3ea0-47a0-82ad-6a88b9a271ee",
   "metadata": {},
   "outputs": [],
   "source": []
  },
  {
   "cell_type": "markdown",
   "id": "fdf073d9-239b-40b1-8b98-f32e1b9a15c7",
   "metadata": {},
   "source": [
    "\n",
    "## Submit the results\n",
    "\n",
    "* Submit your results here: https://courses.datatalks.club/llm-zoomcamp-2025/homework/dlt"
   ]
  },
  {
   "cell_type": "code",
   "execution_count": null,
   "id": "aefec539-87e4-47f0-bf25-11c8670efdfe",
   "metadata": {},
   "outputs": [],
   "source": []
  }
 ],
 "metadata": {
  "kernelspec": {
   "display_name": "Python 3 (ipykernel)",
   "language": "python",
   "name": "python3"
  },
  "language_info": {
   "codemirror_mode": {
    "name": "ipython",
    "version": 3
   },
   "file_extension": ".py",
   "mimetype": "text/x-python",
   "name": "python",
   "nbconvert_exporter": "python",
   "pygments_lexer": "ipython3",
   "version": "3.12.3"
  }
 },
 "nbformat": 4,
 "nbformat_minor": 5
}
