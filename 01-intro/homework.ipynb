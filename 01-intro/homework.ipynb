{
 "cells": [
  {
   "cell_type": "markdown",
   "id": "57ab0763-6f33-49e5-8b69-17e7e1d6fa2d",
   "metadata": {},
   "source": [
    "## Homework: Introduction"
   ]
  },
  {
   "cell_type": "markdown",
   "id": "9cf21285-f740-4474-a40c-4d85666a3fca",
   "metadata": {},
   "source": [
    "\n",
    "\n",
    "In this homework, we'll learn more about search and use Elastic Search for practice. \n",
    "\n",
    "> It's possible that your answers won't match exactly. If it's the case, select the closest one."
   ]
  },
  {
   "cell_type": "markdown",
   "id": "61aef87d-93a8-4866-b1e9-1eac008cfb51",
   "metadata": {},
   "source": [
    "\n",
    "## Q1. Running Elastic \n",
    "\n"
   ]
  },
  {
   "cell_type": "markdown",
   "id": "6459fd5a-9595-48ed-b034-8dc491b40325",
   "metadata": {},
   "source": [
    "Run Elastic Search 8.17.6, and get the cluster information. If you run it on localhost, this is how you do it:\n",
    "\n",
    "```bash\n",
    "curl localhost:9200\n",
    "```\n",
    "\n",
    "What's the `version.build_hash` value?"
   ]
  },
  {
   "cell_type": "code",
   "execution_count": 49,
   "id": "025832f1-f764-4aff-9e41-7c649c310a48",
   "metadata": {},
   "outputs": [],
   "source": [
    "import json\n",
    "from pprint import pprint\n",
    "from tqdm.notebook import tqdm\n",
    "import tiktoken"
   ]
  },
  {
   "cell_type": "code",
   "execution_count": 8,
   "id": "1d08edc3-e8ef-44bc-84b8-d0540420d7c6",
   "metadata": {},
   "outputs": [],
   "source": [
    "ELASTIC_SEARCH_INFO = 'elastic-search-info.json'"
   ]
  },
  {
   "cell_type": "code",
   "execution_count": 9,
   "id": "7fac45f2-0555-4527-923e-59a3f1abdadb",
   "metadata": {},
   "outputs": [
    {
     "name": "stdout",
     "output_type": "stream",
     "text": [
      "  % Total    % Received % Xferd  Average Speed   Time    Time     Time  Current\n",
      "                                 Dload  Upload   Total   Spent    Left  Speed\n",
      "100   539  100   539    0     0   175k      0 --:--:-- --:--:-- --:--:--  175k\n"
     ]
    }
   ],
   "source": [
    "!curl localhost:9200 -o {ELASTIC_SEARCH_INFO}"
   ]
  },
  {
   "cell_type": "code",
   "execution_count": 12,
   "id": "1fefe3e0-a27a-4816-a9bf-e46ac168e82d",
   "metadata": {},
   "outputs": [
    {
     "name": "stdout",
     "output_type": "stream",
     "text": [
      "{'cluster_name': 'docker-cluster',\n",
      " 'cluster_uuid': 'AhGWmtnlSc2xe_ht356aLg',\n",
      " 'name': '3b14098e9193',\n",
      " 'tagline': 'You Know, for Search',\n",
      " 'version': {'build_date': '2022-10-04T07:17:24.662462378Z',\n",
      "             'build_flavor': 'default',\n",
      "             'build_hash': '42f05b9372a9a4a470db3b52817899b99a76ee73',\n",
      "             'build_snapshot': False,\n",
      "             'build_type': 'docker',\n",
      "             'lucene_version': '9.3.0',\n",
      "             'minimum_index_compatibility_version': '7.0.0',\n",
      "             'minimum_wire_compatibility_version': '7.17.0',\n",
      "             'number': '8.4.3'}}\n"
     ]
    }
   ],
   "source": [
    "with open(ELASTIC_SEARCH_INFO) as json_data:\n",
    "    info = json.load(json_data)\n",
    "    pprint(info)"
   ]
  },
  {
   "cell_type": "code",
   "execution_count": 13,
   "id": "8bab25c2-6813-4249-980d-2e23230d5fbb",
   "metadata": {},
   "outputs": [
    {
     "data": {
      "text/plain": [
       "'42f05b9372a9a4a470db3b52817899b99a76ee73'"
      ]
     },
     "execution_count": 13,
     "metadata": {},
     "output_type": "execute_result"
    }
   ],
   "source": [
    "info['version']['build_hash']"
   ]
  },
  {
   "cell_type": "markdown",
   "id": "95126b2a-68c0-4d4b-85bb-fd5750d37dd8",
   "metadata": {},
   "source": [
    "## Getting the data"
   ]
  },
  {
   "cell_type": "markdown",
   "id": "d455e269-564e-45d7-8400-0ac991d91a79",
   "metadata": {},
   "source": [
    "\n",
    "\n",
    "Now let's get the FAQ data. You can run this snippet:\n",
    "\n",
    "```python\n",
    "import requests \n",
    "\n",
    "docs_url = 'https://github.com/DataTalksClub/llm-zoomcamp/blob/main/01-intro/documents.json?raw=1'\n",
    "docs_response = requests.get(docs_url)\n",
    "documents_raw = docs_response.json()\n",
    "\n",
    "documents = []\n",
    "\n",
    "for course in documents_raw:\n",
    "    course_name = course['course']\n",
    "\n",
    "    for doc in course['documents']:\n",
    "        doc['course'] = course_name\n",
    "        documents.append(doc)\n",
    "```\n",
    "\n",
    "Note that you need to have the `requests` library:\n",
    "\n",
    "```bash\n",
    "pip install requests\n",
    "```"
   ]
  },
  {
   "cell_type": "code",
   "execution_count": 14,
   "id": "2d82ca39-db89-4a25-ac61-ca633deb006a",
   "metadata": {},
   "outputs": [],
   "source": [
    "import requests \n",
    "\n",
    "docs_url = 'https://github.com/DataTalksClub/llm-zoomcamp/blob/main/01-intro/documents.json?raw=1'\n",
    "docs_response = requests.get(docs_url)\n",
    "documents_raw = docs_response.json()\n",
    "\n",
    "documents = []\n",
    "\n",
    "for course in documents_raw:\n",
    "    course_name = course['course']\n",
    "\n",
    "    for doc in course['documents']:\n",
    "        doc['course'] = course_name\n",
    "        documents.append(doc)"
   ]
  },
  {
   "cell_type": "markdown",
   "id": "6b2623e4-7fee-43f9-8bf1-5b82248932ea",
   "metadata": {},
   "source": [
    "## Q2. Indexing the data"
   ]
  },
  {
   "cell_type": "markdown",
   "id": "70820649-3b52-41ab-b820-484a7e3aeedd",
   "metadata": {},
   "source": [
    "\n",
    "\n",
    "Index the data in the same way as was shown in the course videos. Make the `course` field a keyword and the rest should be text. \n",
    "\n",
    "Don't forget to install the ElasticSearch client for Python:\n",
    "\n",
    "```bash\n",
    "pip install elasticsearch\n",
    "```\n",
    "\n",
    "Which function do you use for adding your data to elastic?\n",
    "\n",
    "* `insert`\n",
    "* `index`\n",
    "* `put`\n",
    "* `add`"
   ]
  },
  {
   "cell_type": "code",
   "execution_count": 15,
   "id": "3007d475-a1d9-493f-8568-d2c05ba976a0",
   "metadata": {},
   "outputs": [],
   "source": [
    "from datetime import datetime\n",
    "from elasticsearch import Elasticsearch\n",
    "\n",
    "#del client"
   ]
  },
  {
   "cell_type": "code",
   "execution_count": 19,
   "id": "e4651872-9d87-4a5a-bec7-7dbbcfd70b19",
   "metadata": {},
   "outputs": [],
   "source": [
    "es_client = Elasticsearch(\"http://localhost:9200\")"
   ]
  },
  {
   "cell_type": "code",
   "execution_count": 20,
   "id": "6b2c9050-5c1f-4621-8e65-8ff97965171d",
   "metadata": {},
   "outputs": [
    {
     "data": {
      "text/plain": [
       "ObjectApiResponse({'name': '3b14098e9193', 'cluster_name': 'docker-cluster', 'cluster_uuid': 'AhGWmtnlSc2xe_ht356aLg', 'version': {'number': '8.4.3', 'build_flavor': 'default', 'build_type': 'docker', 'build_hash': '42f05b9372a9a4a470db3b52817899b99a76ee73', 'build_date': '2022-10-04T07:17:24.662462378Z', 'build_snapshot': False, 'lucene_version': '9.3.0', 'minimum_wire_compatibility_version': '7.17.0', 'minimum_index_compatibility_version': '7.0.0'}, 'tagline': 'You Know, for Search'})"
      ]
     },
     "execution_count": 20,
     "metadata": {},
     "output_type": "execute_result"
    }
   ],
   "source": [
    "es_client.info()"
   ]
  },
  {
   "cell_type": "code",
   "execution_count": 21,
   "id": "56c75624-0220-4aed-a45c-c1486c2066fc",
   "metadata": {},
   "outputs": [],
   "source": [
    "index_settings = {\n",
    "    \"settings\": {\n",
    "        \"number_of_shards\": 1,\n",
    "        \"number_of_replicas\": 0\n",
    "    },\n",
    "    \"mappings\": {\n",
    "        \"properties\": {\n",
    "            \"text\": {\"type\": \"text\"},\n",
    "            \"section\": {\"type\": \"text\"},\n",
    "            \"question\": {\"type\": \"text\"},\n",
    "            \"course\": {\"type\": \"keyword\"} \n",
    "        }\n",
    "    }\n",
    "}\n",
    "\n",
    "index_name = \"course-question\""
   ]
  },
  {
   "cell_type": "code",
   "execution_count": 22,
   "id": "ce1affe8-7374-47a0-844a-72e4f4893293",
   "metadata": {},
   "outputs": [],
   "source": [
    "# Obtener lista de índices y imprimir sus nombres\n",
    "try:\n",
    "    indices = es_client.cat.indices(format='json')\n",
    "    for index in indices:\n",
    "        print(index['index'])\n",
    "except Exception as e:\n",
    "    print(f'Error al obtener los índices: {e}')"
   ]
  },
  {
   "cell_type": "code",
   "execution_count": 23,
   "id": "d7e2af2a-8128-4608-9bc3-838357944a45",
   "metadata": {},
   "outputs": [
    {
     "name": "stdout",
     "output_type": "stream",
     "text": [
      "{'acknowledged': True, 'shards_acknowledged': True, 'index': 'course-question'}\n"
     ]
    }
   ],
   "source": [
    "# Create index\n",
    "res_create = es_client.indices.create(index=index_name, body=index_settings)\n",
    "print(res_create)"
   ]
  },
  {
   "cell_type": "code",
   "execution_count": 26,
   "id": "51e0192c-5d33-4b52-92c4-e5e9d25da481",
   "metadata": {},
   "outputs": [
    {
     "data": {
      "application/vnd.jupyter.widget-view+json": {
       "model_id": "7359cca269734e25af9a4ad4acf03a53",
       "version_major": 2,
       "version_minor": 0
      },
      "text/plain": [
       "  0%|          | 0/948 [00:00<?, ?it/s]"
      ]
     },
     "metadata": {},
     "output_type": "display_data"
    }
   ],
   "source": [
    "# Index document\n",
    "for doc in tqdm(documents):\n",
    "    #print(doc)\n",
    "    es_client.index(index=index_name, body=doc)"
   ]
  },
  {
   "cell_type": "markdown",
   "id": "3b23a705-4ef7-4e29-a32a-c975e805eb64",
   "metadata": {},
   "source": [
    "Which function do you use for adding your data to elastic?\n",
    "\n",
    "* `insert`\n",
    "* **`index`** <span style=\"font-size: 1.2em;\">⬅️</span>\n",
    "* `put`\n",
    "* `add`\n",
    "\n"
   ]
  },
  {
   "cell_type": "markdown",
   "id": "b5a64ebd-45e5-4b32-a65f-ead2b08bb023",
   "metadata": {},
   "source": [
    "## Q3. Searching"
   ]
  },
  {
   "cell_type": "markdown",
   "id": "63b55745-bb1d-4de1-8af1-e8b73bd0b743",
   "metadata": {},
   "source": [
    "\n",
    "\n",
    "Now let's search in our index. \n",
    "\n",
    "We will execute a query \"How do execute a command on a Kubernetes pod?\". \n",
    "\n",
    "Use only `question` and `text` fields and give `question` a boost of 4, and use `\"type\": \"best_fields\"`.\n",
    "\n",
    "What's the score for the top ranking result?\n",
    "\n",
    "* 84.50\n",
    "* 64.50\n",
    "* 44.50\n",
    "* 24.50\n",
    "\n",
    "Look at the `_score` field."
   ]
  },
  {
   "cell_type": "code",
   "execution_count": 28,
   "id": "48fd747a-1e86-4f71-8f99-514578a523b9",
   "metadata": {},
   "outputs": [],
   "source": [
    "query = \"How do execute a command on a Kubernetes pod?\""
   ]
  },
  {
   "cell_type": "code",
   "execution_count": 29,
   "id": "d5c116de-f75d-4710-b7f8-cde8bfee8144",
   "metadata": {},
   "outputs": [],
   "source": [
    "def es_search(query, size=5, course='data-engineering-zoomcamp'):\n",
    "    search_query = {\n",
    "        \"size\": size,\n",
    "        \"query\": {\n",
    "            \"bool\": {\n",
    "                \"must\": {\n",
    "                    \"multi_match\": {\n",
    "                        \"query\": query,\n",
    "                        \"fields\": [\"question^4\", \"text\"],\n",
    "                        \"type\": \"best_fields\"\n",
    "                    }\n",
    "                },\n",
    "                \"filter\": {\n",
    "                    \"term\": {\n",
    "                        \"course\": course\n",
    "                    }\n",
    "                }\n",
    "            }\n",
    "        }\n",
    "    }\n",
    "    response = es_client.search(index=index_name, body=search_query)\n",
    "    return response"
   ]
  },
  {
   "cell_type": "code",
   "execution_count": 30,
   "id": "52359ae2-d531-4bdf-995a-ee617724aef4",
   "metadata": {},
   "outputs": [],
   "source": [
    "response = es_search(query)"
   ]
  },
  {
   "cell_type": "code",
   "execution_count": 31,
   "id": "9487a1b4-24fe-4311-932b-8f5ac81c4d27",
   "metadata": {},
   "outputs": [
    {
     "data": {
      "text/plain": [
       "ObjectApiResponse({'took': 903, 'timed_out': False, '_shards': {'total': 1, 'successful': 1, 'skipped': 0, 'failed': 0}, 'hits': {'total': {'value': 334, 'relation': 'eq'}, 'max_score': 31.973522, 'hits': [{'_index': 'course-question', '_id': 'FOW5dJcBbjaZewPkAf8_', '_score': 31.973522, '_source': {'text': 'Install the astronomer-cosmos package as a dependency. (see Terraform example).\\nMake a new folder, dbt/, inside the dags/ folder of your Composer GCP bucket and copy paste your dbt-core project there. (see example)\\nEnsure your profiles.yml is configured to authenticate with a service account key. (see BigQuery example)\\nCreate a new DAG using the DbtTaskGroup class and a ProfileConfig specifying a profiles_yml_filepath that points to the location of your JSON key file. (see example)\\nYour dbt lineage graph should now appear as tasks inside a task group like this:', 'section': 'Course Management Form for Homeworks', 'question': 'How to run a dbt-core project as an Airflow Task Group on Google Cloud Composer using a service account JSON key', 'course': 'data-engineering-zoomcamp'}}, {'_index': 'course-question', '_id': 'f-W4dJcBbjaZewPk-v1C', '_score': 31.098085, '_source': {'text': \"There are 3 Zoom Camps in a year, as of 2024. However, they are for separate courses:\\nData-Engineering (Jan - Apr)\\nMLOps (May - Aug)\\nMachine Learning (Sep - Jan)\\nThere's only one Data-Engineering Zoomcamp “live” cohort per year, for the certification. Same as for the other Zoomcamps.\\nThey follow pretty much the same schedule for each cohort per zoomcamp. For Data-Engineering it is (generally) from Jan-Apr of the year. If you’re not interested in the Certificate, you can take any zoom camps at any time, at your own pace, out of sync with any “live” cohort.\", 'section': 'General course-related questions', 'question': 'Course - how many Zoomcamps in a year?', 'course': 'data-engineering-zoomcamp'}}, {'_index': 'course-question', '_id': '1eW5dJcBbjaZewPkAP54', '_score': 30.154186, '_source': {'text': 'Error:\\nspark.createDataFrame(df_pandas).schema\\nTypeError: field Affiliated_base_number: Can not merge type <class \\'pyspark.sql.types.StringType\\'> and <class \\'pyspark.sql.types.DoubleType\\'>\\nSolution:\\nAffiliated_base_number is a mix of letters and numbers (you can check this with a preview of the table), so it cannot be set to DoubleType (only for double-precision numbers). The suitable type would be StringType. Spark  inferSchema is more accurate than Pandas infer type method in this case. You can set it to  true  while reading the csv, so you don’t have to take out any data from your dataset. Something like this can help:\\ndf = spark.read \\\\\\n.options(\\nheader = \"true\", \\\\\\ninferSchema = \"true\", \\\\\\n) \\\\\\n.csv(\\'path/to/your/csv/file/\\')\\nSolution B:\\nIt\\'s because some rows in the affiliated_base_number are null and therefore it is assigned the datatype String and this cannot be converted to type Double. So if you really want to convert this pandas df to a pyspark df only take the  rows from the pandas df that are not null in the \\'Affiliated_base_number\\' column. Then you will be able to apply the pyspark function createDataFrame.\\n# Only take rows that have no null values\\npandas_df= pandas_df[pandas_df.notnull().all(1)]', 'section': 'Module 5: pyspark', 'question': 'TypeError when using spark.createDataFrame function on a pandas df', 'course': 'data-engineering-zoomcamp'}}, {'_index': 'course-question', '_id': '3uW5dJcBbjaZewPkAP6V', '_score': 29.561802, '_source': {'text': 'Fix is to set the flag like the error states. Get your project ID from your dashboard and set it like so:\\ngcloud dataproc jobs submit pyspark \\\\\\n--cluster=my_cluster \\\\\\n--region=us-central1 \\\\\\n--project=my-dtc-project-1010101 \\\\\\ngs://my-dtc-bucket-id/code/06_spark_sql.py\\n-- \\\\\\n…', 'section': 'Module 5: pyspark', 'question': 'Dataproc - ERROR: (gcloud.dataproc.jobs.submit.pyspark) The required property [project] is not currently set. It can be set on a per-command basis by re-running your command with the [--project] flag.', 'course': 'data-engineering-zoomcamp'}}, {'_index': 'course-question', '_id': 'feW4dJcBbjaZewPk__4-', '_score': 28.267738, '_source': {'text': \"Make sure you use:\\ndbt run --var ‘is_test_run: false’ or\\ndbt build --var ‘is_test_run: false’\\n(watch out for formatted text from this document: re-type the single quotes). If that does not work, use --vars '{'is_test_run': 'false'}' with each phrase separately quoted.\", 'section': 'Module 4: analytics engineering with dbt', 'question': 'Build - Why do my Fact_trips only contain a few days of data?', 'course': 'data-engineering-zoomcamp'}}]}})"
      ]
     },
     "execution_count": 31,
     "metadata": {},
     "output_type": "execute_result"
    }
   ],
   "source": [
    "response"
   ]
  },
  {
   "cell_type": "code",
   "execution_count": 32,
   "id": "e73c51bb-9853-4022-9767-a22892582707",
   "metadata": {},
   "outputs": [
    {
     "data": {
      "text/plain": [
       "5"
      ]
     },
     "execution_count": 32,
     "metadata": {},
     "output_type": "execute_result"
    }
   ],
   "source": [
    "len(response['hits']['hits'])"
   ]
  },
  {
   "cell_type": "code",
   "execution_count": 33,
   "id": "812d09da-7ed9-4252-87f7-805579536834",
   "metadata": {},
   "outputs": [
    {
     "data": {
      "text/plain": [
       "31.973522"
      ]
     },
     "execution_count": 33,
     "metadata": {},
     "output_type": "execute_result"
    }
   ],
   "source": [
    "response['hits']['max_score']\n"
   ]
  },
  {
   "cell_type": "code",
   "execution_count": 34,
   "id": "42ca2990-e1ee-4f80-b1a7-58f8d84bc25d",
   "metadata": {},
   "outputs": [
    {
     "data": {
      "text/plain": [
       "31.973522"
      ]
     },
     "execution_count": 34,
     "metadata": {},
     "output_type": "execute_result"
    }
   ],
   "source": [
    "response['hits']['hits'][0]['_score']\n"
   ]
  },
  {
   "cell_type": "markdown",
   "id": "67df69f1-7d59-4527-9b04-8d66a2da2f1d",
   "metadata": {},
   "source": [
    "What's the score for the top ranking result?\n",
    "\n",
    "* 84.50\n",
    "* 64.50\n",
    "* 44.50\n",
    "* **24.50** <span style=\"font-size: 1.2em;\">⬅️</span>"
   ]
  },
  {
   "cell_type": "markdown",
   "id": "20b88f12-cef0-4348-b5f3-5185d4c5ea09",
   "metadata": {},
   "source": [
    "## Q4. Filtering\n"
   ]
  },
  {
   "cell_type": "markdown",
   "id": "30e27947-87ab-4c7a-aa0b-56d36749f0b5",
   "metadata": {},
   "source": [
    "\n",
    "Now ask a different question: \"How do copy a file to a Docker container?\".\n",
    "\n",
    "This time we are only interested in questions from `machine-learning-zoomcamp`.\n",
    "\n",
    "Return 3 results. What's the 3rd question returned by the search engine?\n",
    "\n",
    "* How do I debug a docker container?\n",
    "* How do I copy files from a different folder into docker container’s working directory?\n",
    "* How do Lambda container images work?\n",
    "* How can I annotate a graph?"
   ]
  },
  {
   "cell_type": "code",
   "execution_count": 35,
   "id": "026231d6-e943-4cfe-a32a-fdd4d5af1064",
   "metadata": {},
   "outputs": [],
   "source": [
    "ml_course = 'machine-learning-zoomcamp'"
   ]
  },
  {
   "cell_type": "code",
   "execution_count": 36,
   "id": "03a40ba1-dec7-4804-be78-8226a3a5383d",
   "metadata": {},
   "outputs": [],
   "source": [
    "ml_couse_response = es_search(query, size=3, course=ml_course)\n"
   ]
  },
  {
   "cell_type": "code",
   "execution_count": 37,
   "id": "08924974-01be-4698-bc3b-6bbd20df539f",
   "metadata": {},
   "outputs": [
    {
     "data": {
      "text/plain": [
       "ObjectApiResponse({'took': 12, 'timed_out': False, '_shards': {'total': 1, 'successful': 1, 'skipped': 0, 'failed': 0}, 'hits': {'total': {'value': 303, 'relation': 'eq'}, 'max_score': 44.50556, 'hits': [{'_index': 'course-question', '_id': '1uW5dJcBbjaZewPkA_-9', '_score': 44.50556, '_source': {'text': 'Launch the container image in interactive mode and overriding the entrypoint, so that it starts a bash command.\\ndocker run -it --entrypoint bash <image>\\nIf the container is already running, execute a command in the specific container:\\ndocker ps (find the container-id)\\ndocker exec -it <container-id> bash\\n(Marcos MJD)', 'section': '5. Deploying Machine Learning Models', 'question': 'How do I debug a docker container?', 'course': 'machine-learning-zoomcamp'}}, {'_index': 'course-question', '_id': 'Zea5dJcBbjaZewPkBQB3', '_score': 35.433445, '_source': {'text': 'Deploy and Access the Kubernetes Dashboard\\nLuke', 'section': '10. Kubernetes and TensorFlow Serving', 'question': 'Kubernetes-dashboard', 'course': 'machine-learning-zoomcamp'}}, {'_index': 'course-question', '_id': '9uW5dJcBbjaZewPkBP8g', '_score': 33.70974, '_source': {'text': 'You can copy files from your local machine into a Docker container using the docker cp command. Here\\'s how to do it:\\nIn the Dockerfile, you can provide the folder containing the files that you want to copy over. The basic syntax is as follows:\\nCOPY [\"src/predict.py\", \"models/xgb_model.bin\", \"./\"]\\t\\t\\t\\t\\t\\t\\t\\t\\t\\t\\tGopakumar Gopinathan', 'section': '5. Deploying Machine Learning Models', 'question': 'How do I copy files from a different folder into docker container’s working directory?', 'course': 'machine-learning-zoomcamp'}}]}})"
      ]
     },
     "execution_count": 37,
     "metadata": {},
     "output_type": "execute_result"
    }
   ],
   "source": [
    "ml_couse_response\n"
   ]
  },
  {
   "cell_type": "code",
   "execution_count": 38,
   "id": "712af4c9-0256-4a3f-8db7-be256b077328",
   "metadata": {},
   "outputs": [
    {
     "data": {
      "text/plain": [
       "{'_index': 'course-question',\n",
       " '_id': '9uW5dJcBbjaZewPkBP8g',\n",
       " '_score': 33.70974,\n",
       " '_source': {'text': 'You can copy files from your local machine into a Docker container using the docker cp command. Here\\'s how to do it:\\nIn the Dockerfile, you can provide the folder containing the files that you want to copy over. The basic syntax is as follows:\\nCOPY [\"src/predict.py\", \"models/xgb_model.bin\", \"./\"]\\t\\t\\t\\t\\t\\t\\t\\t\\t\\t\\tGopakumar Gopinathan',\n",
       "  'section': '5. Deploying Machine Learning Models',\n",
       "  'question': 'How do I copy files from a different folder into docker container’s working directory?',\n",
       "  'course': 'machine-learning-zoomcamp'}}"
      ]
     },
     "execution_count": 38,
     "metadata": {},
     "output_type": "execute_result"
    }
   ],
   "source": [
    "ml_couse_response['hits']['hits'][2]\n"
   ]
  },
  {
   "cell_type": "code",
   "execution_count": 39,
   "id": "8404aac7-eb91-476e-a829-3947f8cbd8f8",
   "metadata": {},
   "outputs": [
    {
     "data": {
      "text/plain": [
       "'How do I copy files from a different folder into docker container’s working directory?'"
      ]
     },
     "execution_count": 39,
     "metadata": {},
     "output_type": "execute_result"
    }
   ],
   "source": [
    "ml_couse_response['hits']['hits'][2]['_source']['question']\n"
   ]
  },
  {
   "cell_type": "markdown",
   "id": "49667023-2afd-45a8-b615-fcf81ff72e38",
   "metadata": {},
   "source": [
    "What's the 3rd question returned by the search engine?\n",
    "\n",
    "* How do I debug a docker container?\n",
    "* ** How do I copy files from a different folder into docker container’s working directory? ** <span style=\"font-size: 1.2em;\">⬅️</span>\n",
    "* How do Lambda container images work?\n",
    "* How can I annotate a graph?"
   ]
  },
  {
   "cell_type": "markdown",
   "id": "c31eeb28-0605-403b-b3a7-138eae6be31a",
   "metadata": {},
   "source": [
    "## Q5. Building a prompt\n"
   ]
  },
  {
   "cell_type": "markdown",
   "id": "553365b8-903d-43c8-9503-4fe5248125d5",
   "metadata": {},
   "source": [
    "\n",
    "Now we're ready to build a prompt to send to an LLM. \n",
    "\n",
    "Take the records returned from Elasticsearch in Q4 and use this template to build the context. Separate context entries by two linebreaks (`\\n\\n`)\n",
    "```python\n",
    "context_template = \"\"\"\n",
    "Q: {question}\n",
    "A: {text}\n",
    "\"\"\".strip()\n",
    "```\n",
    "\n",
    "Now use the context you just created along with the \"How do copy a file to a Docker container?\" question \n",
    "to construct a prompt using the template below:\n",
    "\n",
    "```\n",
    "prompt_template = \"\"\"\n",
    "You're a course teaching assistant. Answer the QUESTION based on the CONTEXT from the FAQ database.\n",
    "Use only the facts from the CONTEXT when answering the QUESTION.\n",
    "\n",
    "QUESTION: {question}\n",
    "\n",
    "CONTEXT:\n",
    "{context}\n",
    "\"\"\".strip()\n",
    "```\n",
    "\n",
    "What's the length of the resulting prompt? (use the `len` function)\n",
    "\n",
    "* 946\n",
    "* 1446\n",
    "* 1946\n",
    "* 2446\n"
   ]
  },
  {
   "cell_type": "code",
   "execution_count": 40,
   "id": "bb992a01-42c5-41db-9d48-0ffd3546eb68",
   "metadata": {},
   "outputs": [],
   "source": [
    "context_template = \"\"\"\n",
    "Q: {question}\n",
    "A: {text}\n",
    "\"\"\".strip()"
   ]
  },
  {
   "cell_type": "code",
   "execution_count": 41,
   "id": "33cca875-c037-42b2-950f-f694d05e9c7b",
   "metadata": {},
   "outputs": [
    {
     "data": {
      "text/plain": [
       "{'text': 'You can copy files from your local machine into a Docker container using the docker cp command. Here\\'s how to do it:\\nIn the Dockerfile, you can provide the folder containing the files that you want to copy over. The basic syntax is as follows:\\nCOPY [\"src/predict.py\", \"models/xgb_model.bin\", \"./\"]\\t\\t\\t\\t\\t\\t\\t\\t\\t\\t\\tGopakumar Gopinathan',\n",
       " 'section': '5. Deploying Machine Learning Models',\n",
       " 'question': 'How do I copy files from a different folder into docker container’s working directory?',\n",
       " 'course': 'machine-learning-zoomcamp'}"
      ]
     },
     "execution_count": 41,
     "metadata": {},
     "output_type": "execute_result"
    }
   ],
   "source": [
    "ml_couse_response['hits']['hits'][2]['_source']\n"
   ]
  },
  {
   "cell_type": "code",
   "execution_count": 42,
   "id": "5c9697b9-c2d0-49ad-9441-df1d12d895e9",
   "metadata": {},
   "outputs": [],
   "source": [
    "def build_context(doc):\n",
    "    context_template = \"\"\"\n",
    "Q: {question}\n",
    "A: {text}\n",
    "\"\"\".strip()\n",
    "    context = context_template.format(question=doc['question'], text=doc['text']).strip()\n",
    "    return context\n",
    "\n",
    "def build_prompt(query, search_results):\n",
    "    prompt_template = \"\"\"\n",
    "You're a course teaching assistant. Answer the QUESTION based on the CONTEXT from the FAQ database.\n",
    "Use only the facts from the CONTEXT when answering the QUESTION.\n",
    "\n",
    "QUESTION: {question}\n",
    "\n",
    "CONTEXT:\n",
    "{context}\n",
    "\"\"\".strip()\n",
    "\n",
    "    context = \"\"\n",
    "    \n",
    "    for es_doc in search_results:\n",
    "        doc = es_doc['_source']\n",
    "        context = context + build_context(doc) + \"\\n\\n\"\n",
    "    \n",
    "    prompt = prompt_template.format(question=query, context=context).strip()\n",
    "    return prompt"
   ]
  },
  {
   "cell_type": "code",
   "execution_count": 43,
   "id": "658d89e7-6c4f-4c6e-b1d0-d536e5b73322",
   "metadata": {},
   "outputs": [],
   "source": [
    "search_results = ml_couse_response['hits']['hits']\n"
   ]
  },
  {
   "cell_type": "code",
   "execution_count": 44,
   "id": "d30c7d72-9361-40e3-b0eb-b188ba00c204",
   "metadata": {},
   "outputs": [],
   "source": [
    "prompt = build_prompt(query, search_results)\n"
   ]
  },
  {
   "cell_type": "code",
   "execution_count": 46,
   "id": "c9f4fc42-1ec8-4714-8a23-aa93eb687d54",
   "metadata": {},
   "outputs": [
    {
     "name": "stdout",
     "output_type": "stream",
     "text": [
      "(\"You're a course teaching assistant. Answer the QUESTION based on the CONTEXT \"\n",
      " 'from the FAQ database.\\n'\n",
      " 'Use only the facts from the CONTEXT when answering the QUESTION.\\n'\n",
      " '\\n'\n",
      " 'QUESTION: How do execute a command on a Kubernetes pod?\\n'\n",
      " '\\n'\n",
      " 'CONTEXT:\\n'\n",
      " 'Q: How do I debug a docker container?\\n'\n",
      " 'A: Launch the container image in interactive mode and overriding the '\n",
      " 'entrypoint, so that it starts a bash command.\\n'\n",
      " 'docker run -it --entrypoint bash <image>\\n'\n",
      " 'If the container is already running, execute a command in the specific '\n",
      " 'container:\\n'\n",
      " 'docker ps (find the container-id)\\n'\n",
      " 'docker exec -it <container-id> bash\\n'\n",
      " '(Marcos MJD)\\n'\n",
      " '\\n'\n",
      " 'Q: Kubernetes-dashboard\\n'\n",
      " 'A: Deploy and Access the Kubernetes Dashboard\\n'\n",
      " 'Luke\\n'\n",
      " '\\n'\n",
      " 'Q: How do I copy files from a different folder into docker container’s '\n",
      " 'working directory?\\n'\n",
      " 'A: You can copy files from your local machine into a Docker container using '\n",
      " \"the docker cp command. Here's how to do it:\\n\"\n",
      " 'In the Dockerfile, you can provide the folder containing the files that you '\n",
      " 'want to copy over. The basic syntax is as follows:\\n'\n",
      " 'COPY [\"src/predict.py\", \"models/xgb_model.bin\", \"./\"]\\t\\t\\t\\t\\t\\t\\t\\t\\t\\t\\t'\n",
      " 'Gopakumar Gopinathan')\n"
     ]
    }
   ],
   "source": [
    "pprint(prompt)"
   ]
  },
  {
   "cell_type": "code",
   "execution_count": 47,
   "id": "9d33d52c-6930-4749-a04e-5cb4c98b36c3",
   "metadata": {},
   "outputs": [
    {
     "data": {
      "text/plain": [
       "1089"
      ]
     },
     "execution_count": 47,
     "metadata": {},
     "output_type": "execute_result"
    }
   ],
   "source": [
    "len(prompt)"
   ]
  },
  {
   "cell_type": "markdown",
   "id": "d6934f1f-4083-4bf7-a806-c5368fdebdcc",
   "metadata": {},
   "source": [
    "What's the length of the resulting prompt? (use the `len` function)\n",
    "\n",
    "* **946** <span style=\"font-size: 1.2em;\">⬅️</span>\n",
    "* 1446\n",
    "* 1946\n",
    "* 2446\n"
   ]
  },
  {
   "cell_type": "markdown",
   "id": "51b034de-0d3a-4a52-a821-6ca908933925",
   "metadata": {},
   "source": [
    "## Q6. Tokens"
   ]
  },
  {
   "cell_type": "markdown",
   "id": "1d5d083d-f8a8-42df-868e-6077a72ad8d7",
   "metadata": {},
   "source": [
    "\n",
    "\n",
    "When we use the OpenAI Platform, we're charged by the number of \n",
    "tokens we send in our prompt and receive in the response.\n",
    "\n",
    "The OpenAI python package uses `tiktoken` for tokenization:\n",
    "\n",
    "```bash\n",
    "pip install tiktoken\n",
    "```\n",
    "\n",
    "Let's calculate the number of tokens in our query: \n",
    "\n",
    "```python\n",
    "encoding = tiktoken.encoding_for_model(\"gpt-4o\")\n",
    "```\n",
    "\n",
    "Use the `encode` function. How many tokens does our prompt have?\n",
    "\n",
    "* 120\n",
    "* 220\n",
    "* 320\n",
    "* 420\n",
    "\n",
    "Note: to decode back a token into a word, you can use the `decode_single_token_bytes` function:\n",
    "\n",
    "```python\n",
    "encoding.decode_single_token_bytes(63842)\n",
    "```"
   ]
  },
  {
   "cell_type": "code",
   "execution_count": 50,
   "id": "2f750699-ec4f-40a5-bf53-fef1e45108cc",
   "metadata": {},
   "outputs": [],
   "source": [
    "encoding = tiktoken.encoding_for_model(\"gpt-4o\")"
   ]
  },
  {
   "cell_type": "code",
   "execution_count": 51,
   "id": "373f31f9-74de-4dd8-9223-3f4a62a95da2",
   "metadata": {},
   "outputs": [],
   "source": [
    "tokens = encoding.encode(prompt)"
   ]
  },
  {
   "cell_type": "code",
   "execution_count": 58,
   "id": "b410d3bc-d75f-4197-b37e-61f42fd36451",
   "metadata": {},
   "outputs": [
    {
     "name": "stdout",
     "output_type": "stream",
     "text": [
      "(\"You're a course teaching assistant. Answer the QUESTION based on the CONTEXT \"\n",
      " 'from the FAQ database.\\n'\n",
      " 'Use only the facts from the CONTEXT when answering the QUESTION.\\n'\n",
      " '\\n'\n",
      " 'QUESTION: How do execute a command on a Kubernetes pod?\\n'\n",
      " '\\n'\n",
      " 'CONTEXT:\\n'\n",
      " 'Q: How do I debug a docker container?\\n'\n",
      " 'A: Launch the container image in interactive mode and overriding the '\n",
      " 'entrypoint, so that it starts a bash command.\\n'\n",
      " 'docker run -it --entrypoint bash <image>\\n'\n",
      " 'If the container is already running, execute a command in the specific '\n",
      " 'container:\\n'\n",
      " 'docker ps (find the container-id)\\n'\n",
      " 'docker exec -it <container-id> bash\\n'\n",
      " '(Marcos MJD)\\n'\n",
      " '\\n'\n",
      " 'Q: Kubernetes-dashboard\\n'\n",
      " 'A: Deploy and Access the Kubernetes Dashboard\\n'\n",
      " 'Luke\\n'\n",
      " '\\n'\n",
      " 'Q: How do I copy files from a different folder into docker container’s '\n",
      " 'working directory?\\n'\n",
      " 'A: You can copy files from your local machine into a Docker container using '\n",
      " \"the docker cp command. Here's how to do it:\\n\"\n",
      " 'In the Dockerfile, you can provide the folder containing the files that you '\n",
      " 'want to copy over. The basic syntax is as follows:\\n'\n",
      " 'COPY [\"src/predict.py\", \"models/xgb_model.bin\", \"./\"]\\t\\t\\t\\t\\t\\t\\t\\t\\t\\t\\t'\n",
      " 'Gopakumar Gopinathan')\n"
     ]
    }
   ],
   "source": [
    "decode_back_str = \"\"\n",
    "for token in tokens:\n",
    "    b = encoding.decode_single_token_bytes(token)\n",
    "    s = b.decode(\"utf-8\")\n",
    "    decode_back_str += s\n",
    "pprint(decode_back_str)"
   ]
  },
  {
   "cell_type": "code",
   "execution_count": 60,
   "id": "c48a6a40-659d-42be-bcb8-88d675c49f68",
   "metadata": {},
   "outputs": [
    {
     "data": {
      "text/plain": [
       "240"
      ]
     },
     "execution_count": 60,
     "metadata": {},
     "output_type": "execute_result"
    }
   ],
   "source": [
    "# Print token numbers\n",
    "len(tokens)"
   ]
  },
  {
   "cell_type": "markdown",
   "id": "cf03226b-6758-4fe5-8ade-430ba5a1f88d",
   "metadata": {},
   "source": [
    "Use the `encode` function. How many tokens does our prompt have?\n",
    "\n",
    "* 120\n",
    "* **220** <span style=\"font-size: 1.2em;\">⬅️</span>\n",
    "* 320\n",
    "* 420"
   ]
  },
  {
   "cell_type": "markdown",
   "id": "23476d2a-739f-4479-9763-d56bff322a74",
   "metadata": {},
   "source": [
    "## Bonus: generating the answer (ungraded)\n",
    "\n",
    "Let's send the prompt to OpenAI. What's the response?  \n",
    "\n",
    "Note: you can replace OpenAI with Ollama. See module 2.\n"
   ]
  },
  {
   "cell_type": "markdown",
   "id": "69bb28de-1fba-4e10-aa2a-624b95d2a662",
   "metadata": {},
   "source": [
    "## Bonus: calculating the costs (ungraded)\n",
    "\n",
    "Suppose that on average per request we send 150 tokens and receive back 250 tokens.\n",
    "\n",
    "How much will it cost to run 1000 requests?\n",
    "\n",
    "You can see the prices [here](https://openai.com/api/pricing/)\n",
    "\n",
    "On June 17, the prices for gpt4o are:\n",
    "\n",
    "* Input: $0.005 / 1K tokens\n",
    "* Output: $0.015 / 1K tokens\n",
    "\n",
    "You can redo the calculations with the values you got in Q6 and Q7.\n"
   ]
  },
  {
   "cell_type": "markdown",
   "id": "44fe440b-ca7d-4276-92f2-47e989562e02",
   "metadata": {},
   "source": [
    "## Submit the results\n",
    "\n",
    "* Submit your results here: https://courses.datatalks.club/llm-zoomcamp-2025/homework/hw1\n",
    "* It's possible that your answers won't match exactly. If it's the case, select the closest one."
   ]
  },
  {
   "cell_type": "code",
   "execution_count": null,
   "id": "02089771-01d5-4fa6-a86f-d6acdd153b9f",
   "metadata": {},
   "outputs": [],
   "source": []
  }
 ],
 "metadata": {
  "kernelspec": {
   "display_name": "Python 3 (ipykernel)",
   "language": "python",
   "name": "python3"
  },
  "language_info": {
   "codemirror_mode": {
    "name": "ipython",
    "version": 3
   },
   "file_extension": ".py",
   "mimetype": "text/x-python",
   "name": "python",
   "nbconvert_exporter": "python",
   "pygments_lexer": "ipython3",
   "version": "3.12.1"
  }
 },
 "nbformat": 4,
 "nbformat_minor": 5
}
