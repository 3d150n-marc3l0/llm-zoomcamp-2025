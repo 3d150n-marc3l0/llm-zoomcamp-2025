{
 "cells": [
  {
   "cell_type": "markdown",
   "id": "398f151a-8413-454f-9164-94e2fb46aa56",
   "metadata": {},
   "source": [
    "## Homework: Agents\n",
    "\n",
    "In this homework, we will learn more about function calling,\n",
    "and we will also explore MCP - model-context protocol. "
   ]
  },
  {
   "cell_type": "markdown",
   "id": "082c4d28-a887-4ea3-85b7-c8d66eb9ebdd",
   "metadata": {},
   "source": [
    "## Preparation\n",
    "\n",
    "First, we'll define a function that we will use when building\n",
    "our agent. \n",
    "\n",
    "It will generate fake weather data:\n",
    "\n",
    "```python\n",
    "import random\n",
    "\n",
    "known_weather_data = {\n",
    "    'berlin': 20.0\n",
    "}\n",
    "\n",
    "def get_weather(city: str) -> float:\n",
    "    city = city.strip().lower()\n",
    "\n",
    "    if city in known_weather_data:\n",
    "        return known_weather_data[city]\n",
    "\n",
    "    return round(random.uniform(-5, 35), 1)\n",
    "```\n"
   ]
  },
  {
   "cell_type": "code",
   "execution_count": 1,
   "id": "209b2450-9466-4aba-9e66-358c408f98fa",
   "metadata": {},
   "outputs": [],
   "source": [
    "import random\n",
    "\n",
    "known_weather_data = {\n",
    "    'berlin': 20.0\n",
    "}\n",
    "\n",
    "def get_weather(city: str) -> float:\n",
    "    city = city.strip().lower()\n",
    "\n",
    "    if city in known_weather_data:\n",
    "        return known_weather_data[city]\n",
    "\n",
    "    return round(random.uniform(-5, 35), 1)"
   ]
  },
  {
   "cell_type": "markdown",
   "id": "55a45a71-4c97-42d6-8374-22188345411b",
   "metadata": {},
   "source": [
    "## Q1. Define function description\n",
    "\n",
    "We want to use it as a tool for our agent, so we need to \n",
    "describe it \n",
    "\n",
    "How should the description for this function look like? Fill in missing parts\n",
    "\n",
    "```python\n",
    "get_weather_tool = {\n",
    "    \"type\": \"function\",\n",
    "    \"name\": \"<TODO1>\",\n",
    "    \"description\": \"<TODO2>\",\n",
    "    \"parameters\": {\n",
    "        \"type\": \"object\",\n",
    "        \"properties\": {\n",
    "            \"<TODO3>\": {\n",
    "                \"type\": \"string\",\n",
    "                \"description\": \"<TODO4>\"\n",
    "            }\n",
    "        },\n",
    "        \"required\": [TODO5],\n",
    "        \"additionalProperties\": False\n",
    "    }\n",
    "}\n",
    "```\n",
    "\n",
    "What did you put in `TODO3`?\n",
    "\n",
    "\n"
   ]
  },
  {
   "cell_type": "markdown",
   "id": "f56d5b9a-a1a7-48a5-9779-d053e7127091",
   "metadata": {},
   "source": [
    "## Testing it (Optional)\n",
    "\n",
    "If you have OpenAI API Key (or alternative provider),\n",
    "let's test it.\n",
    "\n",
    "A question could be \"What's the weather like in Germany?\"\n",
    "\n",
    "Experiment with different system prompts to have better answers\n",
    "from the system.\n",
    "\n",
    "You can use [chat_assistant.py](https://github.com/alexeygrigorev/rag-agents-workshop/blob/main/chat_assistant.py)\n",
    "or implement everything yourself \n",
    "\n",
    "```bash\n",
    "wget https://raw.githubusercontent.com/alexeygrigorev/rag-agents-workshop/refs/heads/main/chat_assistant.py\n",
    "```"
   ]
  },
  {
   "cell_type": "code",
   "execution_count": 7,
   "id": "88329d9c-11aa-4475-9660-48fea20c1ae7",
   "metadata": {},
   "outputs": [],
   "source": [
    "get_weather_tool = {\n",
    "    \"type\": \"function\",\n",
    "    \"name\": \"get_weather\",\n",
    "    \"description\": \"Search the FAQ database\",\n",
    "    \"parameters\": {\n",
    "        \"type\": \"object\",\n",
    "        \"properties\": {\n",
    "            \"city\": {\n",
    "                \"type\": \"string\",\n",
    "                \"description\": \"Search city text to look up in the weather FAQ.\"\n",
    "            }\n",
    "        },\n",
    "        \"required\": [\"query\"],\n",
    "        \"additionalProperties\": False\n",
    "    }\n",
    "}"
   ]
  },
  {
   "cell_type": "code",
   "execution_count": 3,
   "id": "b0938fef-24b0-4e8d-b716-17b22489fb5d",
   "metadata": {},
   "outputs": [
    {
     "name": "stdout",
     "output_type": "stream",
     "text": [
      "--2025-07-14 11:21:05--  https://raw.githubusercontent.com/alexeygrigorev/rag-agents-workshop/refs/heads/main/chat_assistant.py\n",
      "Resolving raw.githubusercontent.com (raw.githubusercontent.com)... 185.199.111.133, 185.199.109.133, 185.199.110.133, ...\n",
      "Connecting to raw.githubusercontent.com (raw.githubusercontent.com)|185.199.111.133|:443... connected.\n",
      "HTTP request sent, awaiting response... 200 OK\n",
      "Length: 3485 (3.4K) [text/plain]\n",
      "Saving to: ‘chat_assistant.py.2’\n",
      "\n",
      "chat_assistant.py.2 100%[===================>]   3.40K  --.-KB/s    in 0s      \n",
      "\n",
      "2025-07-14 11:21:05 (13.0 MB/s) - ‘chat_assistant.py.2’ saved [3485/3485]\n",
      "\n"
     ]
    }
   ],
   "source": [
    "!wget https://raw.githubusercontent.com/alexeygrigorev/rag-agents-workshop/refs/heads/main/chat_assistant.py"
   ]
  },
  {
   "cell_type": "code",
   "execution_count": 29,
   "id": "2964eb32-29fa-471a-8b34-1f78ade1bf8c",
   "metadata": {},
   "outputs": [],
   "source": [
    "import chat_assistant"
   ]
  },
  {
   "cell_type": "code",
   "execution_count": 30,
   "id": "f3647376-cbb0-4bdf-a113-613b18a0b017",
   "metadata": {},
   "outputs": [],
   "source": [
    "tools = chat_assistant.Tools()\n",
    "tools.add_tool(get_weather, get_weather_tool)"
   ]
  },
  {
   "cell_type": "code",
   "execution_count": 31,
   "id": "b9817232-35cd-40e9-b15e-43edd65d1634",
   "metadata": {},
   "outputs": [
    {
     "data": {
      "text/plain": [
       "[{'type': 'function',\n",
       "  'name': 'get_weather',\n",
       "  'description': 'Search the FAQ database',\n",
       "  'parameters': {'type': 'object',\n",
       "   'properties': {'city': {'type': 'string',\n",
       "     'description': 'Search query text to look up in the course FAQ.'}},\n",
       "   'required': ['query'],\n",
       "   'additionalProperties': False}}]"
      ]
     },
     "execution_count": 31,
     "metadata": {},
     "output_type": "execute_result"
    }
   ],
   "source": [
    "tools.get_tools()"
   ]
  },
  {
   "cell_type": "code",
   "execution_count": 32,
   "id": "afbd68b8-9683-4558-9843-1c812ad5b6fd",
   "metadata": {},
   "outputs": [],
   "source": [
    "from openai import OpenAI\n",
    "client = OpenAI()"
   ]
  },
  {
   "cell_type": "code",
   "execution_count": 33,
   "id": "fbb21a34-325d-4b3b-a1fa-856e8bf2b303",
   "metadata": {},
   "outputs": [],
   "source": [
    "question = \"What's the weather like in Germany?\""
   ]
  },
  {
   "cell_type": "code",
   "execution_count": 34,
   "id": "ec24f8a8-b338-4cc8-b988-18d255271b2c",
   "metadata": {},
   "outputs": [],
   "source": [
    "developer_prompt = \"\"\"\n",
    "You are a weather assistant for countries and cities.\n",
    "Someone has asked you a question, and your task is to answer it.\n",
    "\n",
    "Use the FAQ if your knowledge isn't sufficient to answer it.\n",
    "\n",
    "At the end of each answer, ask the user a follow-up question based on your response.\n",
    "\"\"\".strip()\n",
    "\n",
    "chat_interface = chat_assistant.ChatInterface()\n",
    "\n",
    "chat = chat_assistant.ChatAssistant(\n",
    "    tools=tools,\n",
    "    developer_prompt=developer_prompt,\n",
    "    chat_interface=chat_interface,\n",
    "    client=client\n",
    ")"
   ]
  },
  {
   "cell_type": "code",
   "execution_count": 35,
   "id": "5aba31f2-17e8-449f-9761-2b60c124a36a",
   "metadata": {},
   "outputs": [
    {
     "name": "stdin",
     "output_type": "stream",
     "text": [
      "You: What's the weather like in Germany?\n"
     ]
    },
    {
     "data": {
      "text/html": [
       "\n",
       "            <details>\n",
       "            <summary>Function call: <tt>get_weather({\"city\":\"Germany\"})</tt></summary>\n",
       "            <div>\n",
       "                <b>Call</b>\n",
       "                <pre>ResponseFunctionToolCall(arguments='{\"city\":\"Germany\"}', call_id='call_8Qa16XkEEYR1IjMqlKL5CiZd', name='get_weather', type='function_call', id='fc_6874d4ec483c819b9e288abf7b3e110606ee8df20be045cd', status='completed')</pre>\n",
       "            </div>\n",
       "            <div>\n",
       "                <b>Output</b>\n",
       "                <pre>33.8</pre>\n",
       "            </div>\n",
       "            \n",
       "            </details>\n",
       "        "
      ],
      "text/plain": [
       "<IPython.core.display.HTML object>"
      ]
     },
     "metadata": {},
     "output_type": "display_data"
    },
    {
     "data": {
      "text/html": [
       "\n",
       "            <div>\n",
       "                <div><b>Assistant:</b></div>\n",
       "                <div><p>The current weather in Germany is quite warm, with temperatures around 33.8°C. </p>\n",
       "<p>Would you like to know the weather for a specific city in Germany?</p></div>\n",
       "            </div>\n",
       "        "
      ],
      "text/plain": [
       "<IPython.core.display.HTML object>"
      ]
     },
     "metadata": {},
     "output_type": "display_data"
    },
    {
     "name": "stdin",
     "output_type": "stream",
     "text": [
      "You: stop\n"
     ]
    },
    {
     "name": "stdout",
     "output_type": "stream",
     "text": [
      "Chat ended.\n"
     ]
    }
   ],
   "source": [
    "chat.run()"
   ]
  },
  {
   "cell_type": "markdown",
   "id": "457732f0-b023-4478-97e9-22c821123e7c",
   "metadata": {},
   "source": [
    "## Q2. Adding another tool\n",
    "\n",
    "Let's add another tool - a function that can add weather data\n",
    "to our database:\n",
    "\n",
    "```python\n",
    "def set_weather(city: str, temp: float) -> None:\n",
    "    city = city.strip().lower()\n",
    "    known_weather_data[city] = temp\n",
    "    return 'OK'\n",
    "```\n",
    "\n",
    "Now let's write a description for it.\n",
    "\n",
    "What did you write?\n",
    "\n",
    "Optionally, you can test it after adding this function.\n"
   ]
  },
  {
   "cell_type": "code",
   "execution_count": 38,
   "id": "2cc8ac59-4958-4c7a-8def-317680d703e9",
   "metadata": {},
   "outputs": [],
   "source": [
    "def set_weather(city: str, temp: float) -> None:\n",
    "    city = city.strip().lower()\n",
    "    known_weather_data[city] = temp\n",
    "    return 'OK'"
   ]
  },
  {
   "cell_type": "code",
   "execution_count": 39,
   "id": "a134c520-6f5e-4820-adda-f81b7e4cafef",
   "metadata": {},
   "outputs": [],
   "source": [
    "set_weather_tool = {\n",
    "    \"type\": \"function\",\n",
    "    \"name\": \"set_weather\",\n",
    "    \"description\": \"Add specific city temperature in the weather database\",\n",
    "    \"parameters\": {\n",
    "        \"type\": \"object\",\n",
    "        \"properties\": {\n",
    "            \"city\": {\n",
    "                \"type\": \"string\",\n",
    "                \"description\": \"City text to be added to the weather data.\"\n",
    "            },\n",
    "            \"temp\": {\n",
    "                \"type\": \"string\",\n",
    "                \"description\": \"City temperature to be added to the weather data.\"\n",
    "            }\n",
    "        },\n",
    "        \"required\": [\"city\", \"temp\"],\n",
    "        \"additionalProperties\": False\n",
    "    }\n",
    "}"
   ]
  },
  {
   "cell_type": "code",
   "execution_count": 40,
   "id": "1b38dce4-7b46-4e1e-8f7e-9b1fa388a7bd",
   "metadata": {},
   "outputs": [],
   "source": [
    "tools.add_tool(set_weather, set_weather_tool)"
   ]
  },
  {
   "cell_type": "code",
   "execution_count": 41,
   "id": "acfa85e3-c5df-4afd-9df5-de4a663d3ba7",
   "metadata": {},
   "outputs": [
    {
     "data": {
      "text/plain": [
       "[{'type': 'function',\n",
       "  'name': 'get_weather',\n",
       "  'description': 'Search the FAQ database',\n",
       "  'parameters': {'type': 'object',\n",
       "   'properties': {'city': {'type': 'string',\n",
       "     'description': 'Search query text to look up in the course FAQ.'}},\n",
       "   'required': ['query'],\n",
       "   'additionalProperties': False}},\n",
       " {'type': 'function',\n",
       "  'name': 'set_weather',\n",
       "  'description': 'Add specific city temperature in the weather database',\n",
       "  'parameters': {'type': 'object',\n",
       "   'properties': {'city': {'type': 'string',\n",
       "     'description': 'City text to be added to the weather data.'},\n",
       "    'temp': {'type': 'string',\n",
       "     'description': 'City temperature to be added to the weather data.'}},\n",
       "   'required': ['city', 'temp'],\n",
       "   'additionalProperties': False}}]"
      ]
     },
     "execution_count": 41,
     "metadata": {},
     "output_type": "execute_result"
    }
   ],
   "source": [
    "tools.get_tools()"
   ]
  },
  {
   "cell_type": "markdown",
   "id": "5413b0a0-f558-4c55-8b37-83837b78122c",
   "metadata": {},
   "source": [
    "## MCP\n",
    "\n",
    "MCP stands for Model-Context Protocol. It allows LLMs communicate\n",
    "with different tools (like Qdrant). It's function calling, but \n",
    "one step further:\n",
    "\n",
    "* A tool can export a list of functions it has\n",
    "* When we include the tool to our Agent, we just need to include the link to the MCP server"
   ]
  },
  {
   "cell_type": "markdown",
   "id": "410c26a7-4013-4083-993e-f7c5c532f498",
   "metadata": {},
   "source": [
    "## Q3. Install FastMCP\n",
    "\n",
    "Let's install a library for MCP - [FastMCP](https://github.com/jlowin/fastmcp):\n",
    "\n",
    "```bash\n",
    "pip install fastmcp\n",
    "```\n",
    "\n",
    "What's the version of FastMCP you installed?"
   ]
  },
  {
   "cell_type": "code",
   "execution_count": 36,
   "id": "d5bd76a7-2f80-4888-9bea-d0c6a7c10cf3",
   "metadata": {},
   "outputs": [],
   "source": [
    "import fastmcp"
   ]
  },
  {
   "cell_type": "code",
   "execution_count": 37,
   "id": "debc18b8-51b7-4aa3-aaa9-7e6b5ae25853",
   "metadata": {},
   "outputs": [
    {
     "data": {
      "text/plain": [
       "'2.10.5'"
      ]
     },
     "execution_count": 37,
     "metadata": {},
     "output_type": "execute_result"
    }
   ],
   "source": [
    "fastmcp.__version__"
   ]
  },
  {
   "cell_type": "markdown",
   "id": "9fe24943-17a4-4868-be4c-8ee4f3fc66ab",
   "metadata": {},
   "source": [
    "## Q4. Simple MCP Server \n",
    "\n",
    "A simple MCP server from the documentation looks like that:\n",
    "\n",
    "```python\n",
    "# weather_server.py\n",
    "from fastmcp import FastMCP\n",
    "\n",
    "mcp = FastMCP(\"Demo 🚀\")\n",
    "\n",
    "@mcp.tool\n",
    "def add(a: int, b: int) -> int:\n",
    "    \"\"\"Add two numbers\"\"\"\n",
    "    return a + b\n",
    "\n",
    "if __name__ == \"__main__\":\n",
    "    mcp.run()\n",
    "```\n",
    "\n",
    "In our case, we need to write docstrings for our functions.\n",
    "\n",
    "Let's ask ChatGPT for help:\n",
    "\n",
    "```python\n",
    "def get_weather(city: str) -> float:\n",
    "    \"\"\"\n",
    "    Retrieves the temperature for a specified city.\n",
    "\n",
    "    Parameters:\n",
    "        city (str): The name of the city for which to retrieve weather data.\n",
    "\n",
    "    Returns:\n",
    "        float: The temperature associated with the city.\n",
    "    \"\"\"\n",
    "    city = city.strip().lower()\n",
    "\n",
    "    if city in known_weather_data:\n",
    "        return known_weather_data[city]\n",
    "\n",
    "    return round(random.uniform(-5, 35), 1)\n",
    "\n",
    "\n",
    "def set_weather(city: str, temp: float) -> None:\n",
    "    \"\"\"\n",
    "    Sets the temperature for a specified city.\n",
    "\n",
    "    Parameters:\n",
    "        city (str): The name of the city for which to set the weather data.\n",
    "        temp (float): The temperature to associate with the city.\n",
    "\n",
    "    Returns:\n",
    "        str: A confirmation string 'OK' indicating successful update.\n",
    "    \"\"\"\n",
    "    city = city.strip().lower()\n",
    "    known_weather_data[city] = temp\n",
    "    return 'OK'\n",
    "```\n",
    "\n",
    "Let's change the example for our case and run it\n",
    "\n",
    "What do you see in the output?\n",
    "\n",
    "Look for a string that matches this template:\n",
    "\n",
    "```\n",
    "Starting MCP server 'Demo 🚀' with transport '<TODO>'\n",
    "```\n",
    "\n",
    "What do you have instead of `<TODO>`?"
   ]
  },
  {
   "cell_type": "code",
   "execution_count": 10,
   "id": "8a866ace-d6a6-4829-98b9-1117e7ce2046",
   "metadata": {},
   "outputs": [
    {
     "name": "stdout",
     "output_type": "stream",
     "text": [
      "Overwriting weather_server.py\n"
     ]
    }
   ],
   "source": [
    "%%writefile weather_server.py\n",
    "from fastmcp import FastMCP\n",
    "import random\n",
    "\n",
    "# Diccionario para almacenar los datos de clima conocidos (puede ser una base de datos en producción)\n",
    "known_weather_data = {\n",
    "    'berlin': 20.0\n",
    "}\n",
    "\n",
    "mcp = FastMCP(\"Demo 🚀\")\n",
    "\n",
    "@mcp.tool\n",
    "def get_weather(city: str) -> float:\n",
    "    \"\"\"\n",
    "    Retrieves the temperature for a specified city.\n",
    "\n",
    "    Parameters:\n",
    "        city (str): The name of the city for which to retrieve weather data.\n",
    "\n",
    "    Returns:\n",
    "        float: The temperature associated with the city.\n",
    "    \"\"\"\n",
    "    city = city.strip().lower()\n",
    "\n",
    "    if city in known_weather_data:\n",
    "        return known_weather_data[city]\n",
    "\n",
    "    return round(random.uniform(-5, 35), 1)\n",
    "\n",
    "\n",
    "@mcp.tool\n",
    "def set_weather(city: str, temp: float) -> str:\n",
    "    \"\"\"\n",
    "    Sets the temperature for a specified city.\n",
    "\n",
    "    Parameters:\n",
    "        city (str): The name of the city for which to set the weather data.\n",
    "        temp (float): The temperature to associate with the city.\n",
    "\n",
    "    Returns:\n",
    "        str: A confirmation string 'OK' indicating successful update.\n",
    "    \"\"\"\n",
    "    city = city.strip().lower()\n",
    "    known_weather_data[city] = temp\n",
    "    return 'OK'\n",
    "\n",
    "\n",
    "if __name__ == \"__main__\":\n",
    "    mcp.run()"
   ]
  },
  {
   "attachments": {
    "86bdb877-2fa6-4db7-97e7-477633fdaaf8.png": {
     "image/png": "[encoded data removed]"
    }
   },
   "cell_type": "markdown",
   "id": "b63af3ef-5dc5-46e4-ac5a-d227163ec01e",
   "metadata": {},
   "source": [
    "![image.png](attachment:86bdb877-2fa6-4db7-97e7-477633fdaaf8.png)"
   ]
  },
  {
   "cell_type": "markdown",
   "id": "b93b13c5-9303-4867-bc82-f5016f791db7",
   "metadata": {},
   "source": [
    "**STDIO**"
   ]
  },
  {
   "cell_type": "markdown",
   "id": "002b4c4d-92b4-4a36-a315-b818f3138b93",
   "metadata": {},
   "source": [
    "## Q5. Protocol\n",
    "\n",
    "There are different ways to communicate with an MCP server.\n",
    "Ours is currently running using standart input/output, which\n",
    "means that the client write something to stdin and read the\n",
    "answer using stdout.\n",
    "\n",
    "Our weather server is currently running.\n",
    "\n",
    "This is how we start communitcating with it:\n",
    "\n",
    "- First, we send an initialization request -- this way, we register our client with the server:\n",
    "    ```json\n",
    "    {\"jsonrpc\": \"2.0\", \"id\": 1, \"method\": \"initialize\", \"params\": {\"protocolVersion\": \"2024-11-05\", \"capabilities\": {\"roots\": {\"listChanged\": true}, \"sampling\": {}}, \"clientInfo\": {\"name\": \"test-client\", \"version\": \"1.0.0\"}}}\n",
    "    ```\n",
    "    We should get back something like that, which is an aknowledgement of the request:\n",
    "    ```json\n",
    "    {\"jsonrpc\":\"2.0\",\"id\":1,\"result\":{\"protocolVersion\":\"2024-11-05\",\"capabilities\":{\"experimental\":{},\"prompts\":{\"listChanged\":false},\"resources\":{\"subscribe\":false,\"listChanged\":false},\"tools\":{\"listChanged\":true}},\"serverInfo\":{\"name\":\"Demo 🚀\",\"version\":\"1.9.4\"}}}\n",
    "    ```\n",
    "-  Next, we reply back, confirming the initialization:\n",
    "    ```json\n",
    "    {\"jsonrpc\": \"2.0\", \"method\": \"notifications/initialized\"}\n",
    "    ```\n",
    "    We don't expect to get anything in response\n",
    "- Now we can ask for a list of available methods:\n",
    "    ```json\n",
    "    {\"jsonrpc\": \"2.0\", \"id\": 2, \"method\": \"tools/list\"}\n",
    "    ```\n",
    "- Let's ask the temperature in Berlin:\n",
    "    ```json\n",
    "    {\"jsonrpc\": \"2.0\", \"id\": 3, \"method\": \"tools/call\", \"params\": {\"name\": \"<TODO>\", \"arguments\": {<TODO>}}}\n",
    "    ```\n",
    "- What did you get in response?\n"
   ]
  },
  {
   "cell_type": "markdown",
   "id": "3d0862f6-7996-4464-a51a-0e219487cc04",
   "metadata": {},
   "source": [
    "```json\n",
    "{\"jsonrpc\": \"2.0\", \"id\": 3, \"method\": \"tools/call\", \"params\": {\"name\": \"get_weather\", \"arguments\": {\"city\": \"Berlin\"}}}\n",
    "```"
   ]
  },
  {
   "attachments": {
    "4ff3da00-a423-4cd4-a1cc-45406c6a9b40.png": {
     "image/png": "[encoded data removed]"
    }
   },
   "cell_type": "markdown",
   "id": "8cf0b47c-691a-45f0-a2e9-8b4f939cf551",
   "metadata": {},
   "source": [
    "![image.png](attachment:4ff3da00-a423-4cd4-a1cc-45406c6a9b40.png)"
   ]
  },
  {
   "cell_type": "markdown",
   "id": "8de0c30c-80ea-4a0d-ad67-7bde734f7370",
   "metadata": {},
   "source": [
    "```json\n",
    "{\"jsonrpc\": \"2.0\", \"id\": 1, \"method\": \"initialize\", \"params\": {\"protocolVersion\": \"2024-11-05\", \"capabilities\": {\"roots\": {\"listChanged\": true}, \"sampling\": {}}, \"clientInfo\": {\"name\": \"test-client\", \"version\": \"1.0.0\"}}}\n",
    "{\"jsonrpc\":\"2.0\",\"id\":1,\"result\":{\"protocolVersion\":\"2024-11-05\",\"capabilities\":{\"experimental\":{},\"prompts\":{\"listChanged\":false},\"resources\":{\"subscribe\":false,\"listChanged\":false},\"tools\":{\"listChanged\":true}},\"serverInfo\":{\"name\":\"Demo 🚀\",\"version\":\"1.11.0\"}}}\n",
    "\n",
    "\n",
    "{\"jsonrpc\": \"2.0\", \"method\": \"notifications/initialized\"}\n",
    "\n",
    "\n",
    "{\"jsonrpc\": \"2.0\", \"id\": 2, \"method\": \"tools/list\"}\n",
    "{\"jsonrpc\":\"2.0\",\"id\":2,\"result\":{\"tools\":[{\"name\":\"get_weather\",\"description\":\"Retrieves the temperature for a specified city.\\n\\nParameters:\\n    city (str): The name of the city for which to retrieve weather data.\\n\\nReturns:\\n    float: The temperature associated with the city.\",\"inputSchema\":{\"properties\":{\"city\":{\"title\":\"City\",\"type\":\"string\"}},\"required\":[\"city\"],\"type\":\"object\"},\"outputSchema\":{\"properties\":{\"result\":{\"title\":\"Result\",\"type\":\"number\"}},\"required\":[\"result\"],\"title\":\"_WrappedResult\",\"type\":\"object\",\"x-fastmcp-wrap-result\":true}},{\"name\":\"set_weather\",\"description\":\"Sets the temperature for a specified city.\\n\\nParameters:\\n    city (str): The name of the city for which to set the weather data.\\n    temp (float): The temperature to associate with the city.\\n\\nReturns:\\n    str: A confirmation string 'OK' indicating successful update.\",\"inputSchema\":{\"properties\":{\"city\":{\"title\":\"City\",\"type\":\"string\"},\"temp\":{\"title\":\"Temp\",\"type\":\"number\"}},\"required\":[\"city\",\"temp\"],\"type\":\"object\"},\"outputSchema\":{\"properties\":{\"result\":{\"title\":\"Result\",\"type\":\"string\"}},\"required\":[\"result\"],\"title\":\"_WrappedResult\",\"type\":\"object\",\"x-fastmcp-wrap-result\":true}}]}}\n",
    "\n",
    "\n",
    "{\"jsonrpc\": \"2.0\", \"id\": 3, \"method\": \"tools/call\", \"params\": {\"name\": \"get_weather\", \"arguments\": {\"city\": \"Berlin\"}}}\n",
    "{\"jsonrpc\":\"2.0\",\"id\":3,\"result\":{\"content\":[{\"type\":\"text\",\"text\":\"20.0\"}],\"structuredContent\":{\"result\":20.0},\"isError\":false}}\n",
    "```"
   ]
  },
  {
   "cell_type": "markdown",
   "id": "2ecdd26f-c6d0-4df5-843b-f3ff1252428a",
   "metadata": {},
   "source": [
    "**20.0**"
   ]
  },
  {
   "cell_type": "markdown",
   "id": "aa2d52b4-db4b-454e-bf07-201d226092af",
   "metadata": {},
   "source": [
    "## Q6. Client\n",
    "\n",
    "We typically don't interact with the server by copy-pasting \n",
    "commands in the terminal.\n",
    "\n",
    "In practice, we use an MCP Client. Let's implement it. \n",
    "\n",
    "FastMCP also supports MCP clients:\n",
    "\n",
    "```python\n",
    "from fastmcp import Client\n",
    "\n",
    "async def main():\n",
    "    async with Client(<TODO>) as mcp_client:\n",
    "        # TODO\n",
    "```\n",
    "\n",
    "Use the client to get the list of available tools\n",
    "of our script. How does the result look like?\n",
    "\n",
    "If you're running this code in Jupyter, you need to pass\n",
    "an instance of MCP server to the `Client`:\n",
    "\n",
    "```python\n",
    "import weather_server\n",
    "\n",
    "async def main():\n",
    "    async with Client(weather_server.mcp) as mcp_client:\n",
    "        # ....\n",
    "```\n",
    "\n",
    "If you run it in a script, you will need to use asyncio:\n",
    "\n",
    "```python\n",
    "import asyncio\n",
    "\n",
    "async def main():\n",
    "    async with Client(\"weather_server.py\") as mcp_client:\n",
    "        # ...\n",
    "\n",
    "if __name__ == \"__main__\":\n",
    "    test = asyncio.run(main())\n",
    "```\n",
    "\n",
    "Copy the output with the available tools when\n",
    "filling in the homework form."
   ]
  },
  {
   "cell_type": "code",
   "execution_count": 24,
   "id": "04210829-95e8-4ee2-8f02-2ebc89f4964e",
   "metadata": {},
   "outputs": [
    {
     "name": "stdout",
     "output_type": "stream",
     "text": [
      "Overwriting weather_client.py\n"
     ]
    }
   ],
   "source": [
    "%%writefile weather_client.py\n",
    "from fastmcp import Client\n",
    "import asyncio\n",
    "\n",
    "async def main():\n",
    "    async with Client(\"weather_server.py\") as mcp_client:\n",
    "        tools = await mcp_client.list_tools()\n",
    "        print(f\"Available tools: {tools}\")\n",
    "\n",
    "if __name__ == \"__main__\":\n",
    "    test = asyncio.run(main())\n",
    "    print(test)"
   ]
  },
  {
   "attachments": {
    "0235d643-690a-49b3-8325-ff9885b3b777.png": {
     "image/png": "[encoded data removed]"
    }
   },
   "cell_type": "markdown",
   "id": "8e11a911-f449-4ca3-9602-12b2f6474d07",
   "metadata": {},
   "source": [
    "![image.png](attachment:0235d643-690a-49b3-8325-ff9885b3b777.png)"
   ]
  },
  {
   "cell_type": "markdown",
   "id": "2cf7a089-775b-4317-944c-0063960a6397",
   "metadata": {},
   "source": [
    "```plaintext\n",
    "Available tools: [Tool(name='get_weather', title=None, description='Retrieves the temperature for a specified city.\\n\\nParameters:\\n    city (str): The name of the city for which to retrieve weather data.\\n\\nReturns:\\n    float: The temperature associated with the city.', inputSchema={'properties': {'city': {'title': 'City', 'type': 'string'}}, 'required': ['city'], 'type': 'object'}, outputSchema={'properties': {'result': {'title': 'Result', 'type': 'number'}}, 'required': ['result'], 'title': '_WrappedResult', 'type': 'object', 'x-fastmcp-wrap-result': True}, annotations=None, meta=None), Tool(name='set_weather', title=None, description=\"Sets the temperature for a specified city.\\n\\nParameters:\\n    city (str): The name of the city for which to set the weather data.\\n    temp (float): The temperature to associate with the city.\\n\\nReturns:\\n    str: A confirmation string 'OK' indicating successful update.\", inputSchema={'properties': {'city': {'title': 'City', 'type': 'string'}, 'temp': {'title': 'Temp', 'type': 'number'}}, 'required': ['city', 'temp'], 'type': 'object'}, outputSchema={'properties': {'result': {'title': 'Result', 'type': 'string'}}, 'required': ['result'], 'title': '_WrappedResult', 'type': 'object', 'x-fastmcp-wrap-result': True}, annotations=None, meta=None)]\n",
    "None\n",
    "```"
   ]
  },
  {
   "cell_type": "markdown",
   "id": "775a39aa-741c-4c6b-a003-446d9f55bcf9",
   "metadata": {},
   "source": [
    "## Using tools from the MCP server (optional)\n",
    "\n",
    "FastMCP uses asyncio for client-server communication. In our\n",
    "case, the code we wrote previously in the module\n",
    "(chat_assistant.py) is not asyncio-friendly, so it will\n",
    "require a lot of adjustments to run it. \n",
    "\n",
    "Which is why we asked Claude to implement a simple\n",
    "non-async MCP client (see [mcp_client.py](mcp_client.py))\n",
    "that can only do this:\n",
    "\n",
    "- List tools\n",
    "- Invoke the specified tool\n",
    "\n",
    "Note: this is not a production-ready MCP Client! Use it\n",
    "only for learning purposes.\n",
    "\n",
    "Check the code - it's quite illustrative. Or experiment\n",
    "with writing this code yourself.\n",
    "\n",
    "Here's how we can use it:\n",
    "\n",
    "```python\n",
    "import mcp_client\n",
    "\n",
    "our_mcp_client = mcp_client.MCPClient([\"python\", \"weather_server.py\"])\n",
    "\n",
    "our_mcp_client.start_server()\n",
    "our_mcp_client.initialize()\n",
    "our_mcp_client.initialized()\n",
    "```\n",
    "\n",
    "While it's somewhat verbose, it follows\n",
    "the initialization structure we outlined in Q5.\n",
    "\n",
    "Now we can use it:\n",
    "\n",
    "```python\n",
    "our_mcp_client.get_tools()\n",
    "our_mcp_client.call_tool('get_weather', {'city': 'Berlin'})\n",
    "```\n",
    "\n",
    "In order to include it in our existing application, we need\n",
    "a wrapper class:\n",
    "\n",
    "```python\n",
    "import json\n",
    "\n",
    "class MCPTools:\n",
    "    def __init__(self, mcp_client):\n",
    "        self.mcp_client = mcp_client\n",
    "        self.tools = None\n",
    "    \n",
    "    def get_tools(self):\n",
    "        if self.tools is None:\n",
    "            mcp_tools = self.mcp_client.get_tools()\n",
    "            self.tools = convert_tools_list(mcp_tools)\n",
    "        return self.tools\n",
    "\n",
    "    def function_call(self, tool_call_response):\n",
    "        function_name = tool_call_response.name\n",
    "        arguments = json.loads(tool_call_response.arguments)\n",
    "\n",
    "        result = self.mcp_client.call_tool(function_name, arguments)\n",
    "\n",
    "        return {\n",
    "            \"type\": \"function_call_output\",\n",
    "            \"call_id\": tool_call_response.call_id,\n",
    "            \"output\": json.dumps(result, indent=2),\n",
    "        }\n",
    "```\n",
    "\n",
    "It's very similar to the `Tools` class we created in the\n",
    "module, but it uses MCP to communicate with the MCP Server.\n",
    "\n",
    "(Where `convert_tools_list` converts MCP functions description\n",
    "format into the OpenAI's one)\n",
    "\n",
    "Let's use it:\n",
    "\n",
    "```python\n",
    "our_mcp_client = mcp_client.MCPClient([\"python\", \"weather_server.py\"])\n",
    "\n",
    "our_mcp_client.start_server()\n",
    "our_mcp_client.initialize()\n",
    "our_mcp_client.initialized()\n",
    "\n",
    "mcp_tools = mcp_client.MCPTools(mcp_client=our_mcp_client)\n",
    "\n",
    "\n",
    "developer_prompt = \"\"\"\n",
    "You help users find out the weather in their cities. \n",
    "If they didn't specify a city, ask them. Make sure we always use a city.\n",
    "\"\"\".strip()\n",
    "\n",
    "chat_interface = chat_assistant.ChatInterface()\n",
    "\n",
    "chat = chat_assistant.ChatAssistant(\n",
    "    tools=mcp_tools,\n",
    "    developer_prompt=developer_prompt,\n",
    "    chat_interface=chat_interface,\n",
    "    client=client\n",
    ")\n",
    "\n",
    "chat.run()\n",
    "```\n",
    "\n",
    "Now we use the MCP server for function calling!\n",
    "\n"
   ]
  },
  {
   "cell_type": "markdown",
   "id": "e93e2ca1-ead3-424a-bfc1-dfd241cfad59",
   "metadata": {},
   "source": [
    "## Submit the results\n",
    "\n",
    "* Submit your results here: https://courses.datatalks.club/llm-zoomcamp-2025/homework/agents"
   ]
  },
  {
   "cell_type": "code",
   "execution_count": null,
   "id": "4b597c54-dbf0-41f5-ac2e-352e602410e6",
   "metadata": {},
   "outputs": [],
   "source": []
  }
 ],
 "metadata": {
  "kernelspec": {
   "display_name": "Python 3 (ipykernel)",
   "language": "python",
   "name": "python3"
  },
  "language_info": {
   "codemirror_mode": {
    "name": "ipython",
    "version": 3
   },
   "file_extension": ".py",
   "mimetype": "text/x-python",
   "name": "python",
   "nbconvert_exporter": "python",
   "pygments_lexer": "ipython3",
   "version": "3.12.3"
  }
 },
 "nbformat": 4,
 "nbformat_minor": 5
}
